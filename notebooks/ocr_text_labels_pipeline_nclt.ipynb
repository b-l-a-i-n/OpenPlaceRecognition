{
 "cells": [
  {
   "cell_type": "markdown",
   "metadata": {
    "id": "Zpl133gJemuU"
   },
   "source": [
    "# Workspace preparation"
   ]
  },
  {
   "cell_type": "markdown",
   "metadata": {
    "id": "fpmjF0T3gqDv"
   },
   "source": [
    "Install all the deps for hackathon"
   ]
  },
  {
   "cell_type": "code",
   "execution_count": 26,
   "metadata": {
    "colab": {
     "base_uri": "https://localhost:8080/",
     "height": 1000
    },
    "id": "bFesjiBieo4m",
    "outputId": "2ae3eaec-573e-4421-8462-4fe55b2f8690",
    "scrolled": true
   },
   "outputs": [],
   "source": [
    "# !sudo apt install build-essential python3-dev libopenblas-dev\n",
    "# !pip install torch ninja\n",
    "# !pip install -U git+https://github.com/richlukich/MinkowskiEngine -v --no-deps \\\n",
    "#                           --config-settings=\"--install-option=--force_cuda\" \\\n",
    "#                           --config-settings=\"--install-option=--blas=openblas\"!pip install faiss-gpu\n",
    "# !pip install loguru\n",
    "# !pip install fuzzywuzzy\n",
    "# !pip install paddlepaddle\n",
    "# !pip install paddleocr==2.8.0 --no-deps\n",
    "# !pip install numpy-quaternion\n",
    "# !pip install dvc\n",
    "# !pip install dvc_gdrive"
   ]
  },
  {
   "cell_type": "code",
   "execution_count": 27,
   "metadata": {
    "colab": {
     "base_uri": "https://localhost:8080/"
    },
    "id": "pCa2ag96g4La",
    "outputId": "30f32afb-6871-4456-fd21-d67832f0ed72",
    "scrolled": true
   },
   "outputs": [],
   "source": [
    "# import torch\n",
    "# print(f\"Is CUDA available in torch?: {torch.cuda.is_available()}\")\n",
    "# import MinkowskiEngine as ME\n",
    "# print(f\"Is CUDA available in MinkowskiEngine?: {ME.is_cuda_available()}\")\n",
    "# ME.print_diagnostics()"
   ]
  },
  {
   "cell_type": "markdown",
   "metadata": {
    "id": "ZiVbWuaMgu_r"
   },
   "source": [
    "Install OpenPlaceRecognition library"
   ]
  },
  {
   "cell_type": "code",
   "execution_count": 28,
   "metadata": {
    "colab": {
     "base_uri": "https://localhost:8080/"
    },
    "id": "9z5CTmmtkKzZ",
    "outputId": "cf66a0c4-e54f-4fb7-f45e-f05d88d97c33"
   },
   "outputs": [],
   "source": [
    "# !git clone https://github.com/OPR-Project/OpenPlaceRecognition.git\n",
    "# !git clone -b feat/itlp_outdoor https://github.com/alexmelekhin/open_place_recognition\n",
    "# !git clone https://github.com/b-l-a-i-n/OpenPlaceRecognition.git open_place_recognition\n",
    "%cd ../\n",
    "\n",
    "# %cd open_place_recognition\n",
    "\n",
    "!pip install -e .\n",
    "\n",
    "%cd notebooks\n",
    "\n",
    "# # load submodules from git\n",
    "# !git submodule update --init\n",
    "\n",
    "# # # change dir\n",
    "# %cd third_party/GeoTransformer/\n",
    "\n",
    "# # install the package\n",
    "# !bash setup.sh\n",
    "\n",
    "# %cd ../../../"
   ]
  },
  {
   "cell_type": "markdown",
   "metadata": {
    "id": "7zW4bNMbfloJ"
   },
   "source": [
    "# Download available data"
   ]
  },
  {
   "cell_type": "code",
   "execution_count": 3,
   "metadata": {
    "id": "AWJIJfyNf5Rn"
   },
   "outputs": [],
   "source": [
    "import gdown"
   ]
  },
  {
   "cell_type": "markdown",
   "metadata": {
    "id": "9vQYLwSfgGn7"
   },
   "source": [
    "OPR models weights"
   ]
  },
  {
   "cell_type": "code",
   "execution_count": 13,
   "metadata": {
    "colab": {
     "base_uri": "https://localhost:8080/"
    },
    "id": "p1ztvYKGgNX6",
    "outputId": "5b248f7f-bc53-46b9-cdb5-56e436e883c7"
   },
   "outputs": [
    {
     "name": "stdout",
     "output_type": "stream",
     "text": [
      "/home/docker_opr/beliakin/notebooks/open_place_recognition/weights\n",
      "/home/docker_opr/beliakin/notebooks\n"
     ]
    }
   ],
   "source": [
    "%cd open_place_recognition/weights\n",
    "\n",
    "url = \"https://drive.google.com/drive/folders/1uRiMe2-I9b5Tgv8mIJLkdGaHXccp_UFJ\"\n",
    "gdown.download_folder(url, quiet=True)\n",
    "\n",
    "%cd ../../"
   ]
  },
  {
   "cell_type": "markdown",
   "metadata": {
    "id": "FE5-RONfg8_O"
   },
   "source": [
    "OCR model weights (trained using the PaddleOCR library)  \n",
    "https://github.com/PaddlePaddle/PaddleOCR"
   ]
  },
  {
   "cell_type": "code",
   "execution_count": 7,
   "metadata": {
    "colab": {
     "base_uri": "https://localhost:8080/"
    },
    "id": "iH8L67WJq21U",
    "outputId": "246d356c-22c1-4052-acf0-ef6f4c34901a"
   },
   "outputs": [
    {
     "name": "stdout",
     "output_type": "stream",
     "text": [
      "/home/docker_opr/beliakin/notebooks/open_place_recognition/weights\n",
      "/home/docker_opr/beliakin/notebooks\n"
     ]
    },
    {
     "name": "stderr",
     "output_type": "stream",
     "text": [
      "/usr/local/lib/python3.10/dist-packages/IPython/core/magics/osm.py:417: UserWarning: This is now an optional IPython functionality, setting dhist requires you to install the `pickleshare` library.\n",
      "  self.shell.db['dhist'] = compress_dhist(dhist)[-100:]\n"
     ]
    }
   ],
   "source": [
    "# PaddleOCR Weights\n",
    "\n",
    "%cd open_place_recognition/weights\n",
    "\n",
    "url = \"https://drive.google.com/drive/u/0/folders/11DKL4FmONL9n6L62ccVDJ1RJ6domQJ5k\"\n",
    "gdown.download_folder(url, quiet=True)\n",
    "\n",
    "%cd ../../"
   ]
  },
  {
   "cell_type": "markdown",
   "metadata": {
    "id": "4XLetrqQhQdH"
   },
   "source": [
    "# Import libraries"
   ]
  },
  {
   "cell_type": "code",
   "execution_count": 1,
   "metadata": {
    "id": "Rpb67rHIhDgx"
   },
   "outputs": [],
   "source": [
    "%load_ext autoreload\n",
    "%autoreload 2"
   ]
  },
  {
   "cell_type": "code",
   "execution_count": 2,
   "metadata": {
    "colab": {
     "base_uri": "https://localhost:8080/"
    },
    "id": "8G7bhpphhAa-",
    "outputId": "a96ecb0d-0308-417e-ab12-21a37b8851b0"
   },
   "outputs": [],
   "source": [
    "import json\n",
    "import numpy as np\n",
    "from scipy.spatial.transform import Rotation\n",
    "\n",
    "import faiss\n",
    "import torch\n",
    "from torch.utils.data import DataLoader\n",
    "from tqdm.notebook import tqdm\n",
    "from typing import List\n",
    "from omegaconf import OmegaConf\n",
    "from hydra.utils import instantiate\n",
    "\n",
    "# If there is an import error - restart the session\n",
    "from opr.pipelines.place_recognition import PlaceRecognitionPipeline, TextLabelsPlaceRecognitionPipeline\n",
    "from opr.pipelines.place_recognition.text_labels import TextLabelsPlaceRecognitionOCRPipeline\n",
    "\n",
    "import cv2\n",
    "import os\n",
    "import matplotlib.pyplot as plt\n",
    "from opr.models.ocr.paddle import PaddleOcrPipeline\n",
    "import paddleocr.tools.infer.predict_det as predict_det\n",
    "from omegaconf import OmegaConf\n",
    "from tqdm.notebook import tqdm\n",
    "import pandas as pd"
   ]
  },
  {
   "cell_type": "code",
   "execution_count": 3,
   "metadata": {
    "id": "959XLwlvhAbB"
   },
   "outputs": [],
   "source": [
    "def get_labels_by_id(labels: List[str], id: str):\n",
    "    frame = labels[id]\n",
    "    all_labels = [i[\"value\"][\"text\"] for i in frame[\"back_cam_anno\"] + frame[\"front_cam_anno\"]]\n",
    "    all_labels = sum(all_labels, [])\n",
    "    return all_labels\n",
    "\n",
    "def pose_to_matrix(pose):\n",
    "    \"\"\"From the 6D poses in the [tx ty tz qx qy qz qw] format to 4x4 pose matrices.\"\"\"\n",
    "    position = pose[:3]\n",
    "    orientation_quat = pose[3:]\n",
    "    rotation = Rotation.from_quat(orientation_quat)\n",
    "    pose_matrix = np.eye(4)\n",
    "    pose_matrix[:3,:3] = rotation.as_matrix()\n",
    "    pose_matrix[:3,3] = position\n",
    "    return pose_matrix\n",
    "\n",
    "def compute_error(estimated_pose, gt_pose):\n",
    "    \"\"\"For the 6D poses in the [tx ty tz qx qy qz qw] format.\"\"\"\n",
    "    estimated_pose = pose_to_matrix(estimated_pose)\n",
    "    gt_pose = pose_to_matrix(gt_pose)\n",
    "    error_pose = np.linalg.inv(estimated_pose) @ gt_pose\n",
    "    dist_error = np.sum(error_pose[:3, 3]**2) ** 0.5\n",
    "    r = Rotation.from_matrix(error_pose[:3, :3])\n",
    "    rotvec = r.as_rotvec()\n",
    "    angle_error = (np.sum(rotvec**2)**0.5) * 180 / np.pi\n",
    "    angle_error = abs(90 - abs(angle_error-90))\n",
    "    return dist_error, angle_error\n",
    "\n",
    "def compute_translation_error(gt_pose, pred_pose):\n",
    "    \"\"\"For the 4x4 pose matrices.\"\"\"\n",
    "    gt_trans = gt_pose[:3, 3]\n",
    "    pred_trans = pred_pose[:3, 3]\n",
    "    error = np.linalg.norm(gt_trans - pred_trans)\n",
    "    return error\n",
    "\n",
    "def compute_rotation_error(gt_pose, pred_pose):\n",
    "    \"\"\"For the 4x4 pose matrices.\"\"\"\n",
    "    gt_rot = Rotation.from_matrix(gt_pose[:3, :3])\n",
    "    pred_rot = Rotation.from_matrix(pred_pose[:3, :3])\n",
    "    error = Rotation.inv(gt_rot) * pred_rot\n",
    "    error = error.as_euler('xyz', degrees=True)\n",
    "    error = np.linalg.norm(error)\n",
    "    return error\n",
    "\n",
    "def compute_absolute_pose_error(gt_pose, pred_pose):\n",
    "    \"\"\"For the 4x4 pose matrices.\"\"\"\n",
    "    rotation_error = compute_rotation_error(gt_pose, pred_pose)\n",
    "    translation_error = compute_translation_error(gt_pose, pred_pose)\n",
    "    return rotation_error, translation_error"
   ]
  },
  {
   "cell_type": "code",
   "execution_count": 35,
   "metadata": {},
   "outputs": [],
   "source": [
    "tracks = [\"2012-01-22\", \"2012-01-08\"]\n",
    "df_track = None\n",
    "\n",
    "for track in tracks:\n",
    "    df = pd.read_csv(os.path.join(DATABASE_TRACK_DIR, track, \"track.csv\"), index_col=0)\n",
    "    if type(df_track) != pd.DataFrame:\n",
    "        df_track = df\n",
    "    else:\n",
    "        df_track = pd.concat([df_track, df], axis=0)\n",
    "        \n",
    "df_track.reset_index(drop=True, inplace=True)\n",
    "df_track.to_csv(os.path.join(DATABASE_TRACK_DIR, \"track.csv\"))"
   ]
  },
  {
   "cell_type": "markdown",
   "metadata": {},
   "source": [
    "## NCLT dataset"
   ]
  },
  {
   "cell_type": "code",
   "execution_count": 4,
   "metadata": {},
   "outputs": [],
   "source": [
    "OPR_PATH = \"/home/docker_opr/beliakin/base/OpenPlaceRecognition/\"\n",
    "DATASET_PATH = \"/home/docker_opr/Datasets/\""
   ]
  },
  {
   "cell_type": "code",
   "execution_count": 5,
   "metadata": {
    "id": "kpqIglBjhAbC"
   },
   "outputs": [],
   "source": [
    "from opr.datasets.nclt import NCLTDataset\n",
    "\n",
    "QUERY_TRACK_DIR = os.path.join(DATASET_PATH, \"NCLT_preprocessed\")\n",
    "DATABASE_TRACK_DIR = os.path.join(DATASET_PATH, \"NCLT_preprocessed\")\n",
    "\n",
    "DB_LABELS_PATH = os.path.join(DATABASE_TRACK_DIR, \"text_labels.json\")\n",
    "\n",
    "DEVICE = \"cuda\"\n",
    "\n",
    "BATCH_SIZE = 4\n",
    "NUM_WORKERS = 2\n",
    "\n",
    "MODEL_CONFIG_PATH = os.path.join(OPR_PATH, \"configs/model/place_recognition/minkloc3d.yaml\")\n",
    "WEIGHTS_PATH = os.path.join(OPR_PATH, \"weights/place_recognition/minkloc3d_nclt.pth\")\n",
    "\n",
    "with open(DB_LABELS_PATH, \"r\") as f:\n",
    "    db_labels = json.loads(f.read())\n",
    "\n",
    "all_db_timestamps = set([int(key) for key in db_labels.keys()])\n",
    "\n",
    "track_df = pd.read_csv(os.path.join(DATABASE_TRACK_DIR, \"track.csv\"))\n",
    "\n",
    "img2ts = {}\n",
    "                       \n",
    "for idx, row in track_df.iterrows():\n",
    "    img2ts[int(row[\"image\"])] = int(row[\"timestamp\"])"
   ]
  },
  {
   "cell_type": "code",
   "execution_count": 98,
   "metadata": {},
   "outputs": [],
   "source": [
    "db_dataset = NCLTDataset(\n",
    "    dataset_root=QUERY_TRACK_DIR,\n",
    "    subset=\"test\",\n",
    "    data_to_load=[\"image_Cam2\", \"image_Cam5\", \"pointcloud_lidar\"],\n",
    "    images_dirname=\"images_large\",\n",
    "    use_itlp_format=True,\n",
    ")\n",
    "db_dataset.dataset_df = db_dataset.dataset_df[db_dataset.dataset_df.track == \"2012-01-08\"]\n",
    "db_dataset.dataset_df = db_dataset.dataset_df[db_dataset.dataset_df.image.apply(lambda x: img2ts[int(x)] in all_db_timestamps)].reset_index(drop=True)\n",
    "db_dataset.dataset_df[\"timestamp\"] = db_dataset.dataset_df.image.apply(lambda x: img2ts[int(x)])\n",
    "db_dataset.dataset_df.drop([\"in_query\"], axis=1, inplace=True)\n",
    "db_dataset.dataset_df = pd.merge(db_dataset.dataset_df, track_df.drop([\"northing\", \"easting\"], axis=1), how=\"left\", on=[\"image\", \"pointcloud\",\"timestamp\"])\n",
    "\n",
    "query_dataset = NCLTDataset(\n",
    "    dataset_root=QUERY_TRACK_DIR,\n",
    "    subset=\"test\",\n",
    "    data_to_load=[\"image_Cam2\", \"image_Cam5\", \"pointcloud_lidar\"],\n",
    "    images_dirname=\"images_large\",\n",
    "    use_itlp_format=True,\n",
    ")\n",
    "query_dataset.dataset_df = query_dataset.dataset_df[query_dataset.dataset_df.track == \"2012-01-22\"].reset_index(drop=True)\n",
    "query_dataset.dataset_df = pd.merge(query_dataset.dataset_df, track_df, how=\"left\")"
   ]
  },
  {
   "cell_type": "code",
   "execution_count": 99,
   "metadata": {},
   "outputs": [
    {
     "data": {
      "text/html": [
       "<div>\n",
       "<style scoped>\n",
       "    .dataframe tbody tr th:only-of-type {\n",
       "        vertical-align: middle;\n",
       "    }\n",
       "\n",
       "    .dataframe tbody tr th {\n",
       "        vertical-align: top;\n",
       "    }\n",
       "\n",
       "    .dataframe thead th {\n",
       "        text-align: right;\n",
       "    }\n",
       "</style>\n",
       "<table border=\"1\" class=\"dataframe\">\n",
       "  <thead>\n",
       "    <tr style=\"text-align: right;\">\n",
       "      <th></th>\n",
       "      <th>track</th>\n",
       "      <th>image</th>\n",
       "      <th>pointcloud</th>\n",
       "      <th>northing</th>\n",
       "      <th>easting</th>\n",
       "      <th>timestamp</th>\n",
       "      <th>Unnamed: 0</th>\n",
       "      <th>down</th>\n",
       "      <th>r</th>\n",
       "      <th>p</th>\n",
       "      <th>...</th>\n",
       "      <th>qw</th>\n",
       "      <th>qx</th>\n",
       "      <th>qy</th>\n",
       "      <th>qz</th>\n",
       "      <th>x</th>\n",
       "      <th>y</th>\n",
       "      <th>z</th>\n",
       "      <th>tx</th>\n",
       "      <th>ty</th>\n",
       "      <th>tz</th>\n",
       "    </tr>\n",
       "  </thead>\n",
       "  <tbody>\n",
       "    <tr>\n",
       "      <th>0</th>\n",
       "      <td>2012-01-08</td>\n",
       "      <td>1326031198730853</td>\n",
       "      <td>1326031198730853</td>\n",
       "      <td>-48.332952</td>\n",
       "      <td>-205.678453</td>\n",
       "      <td>1326031198728706</td>\n",
       "      <td>1249</td>\n",
       "      <td>NaN</td>\n",
       "      <td>NaN</td>\n",
       "      <td>NaN</td>\n",
       "      <td>...</td>\n",
       "      <td>0.768707</td>\n",
       "      <td>-0.041070</td>\n",
       "      <td>-0.013121</td>\n",
       "      <td>-0.638147</td>\n",
       "      <td>NaN</td>\n",
       "      <td>NaN</td>\n",
       "      <td>NaN</td>\n",
       "      <td>-48.332952</td>\n",
       "      <td>-205.678453</td>\n",
       "      <td>3.517986</td>\n",
       "    </tr>\n",
       "    <tr>\n",
       "      <th>1</th>\n",
       "      <td>2012-01-08</td>\n",
       "      <td>1326032284751195</td>\n",
       "      <td>1326032284751195</td>\n",
       "      <td>-185.568427</td>\n",
       "      <td>-698.612434</td>\n",
       "      <td>1326032284749527</td>\n",
       "      <td>1521</td>\n",
       "      <td>NaN</td>\n",
       "      <td>NaN</td>\n",
       "      <td>NaN</td>\n",
       "      <td>...</td>\n",
       "      <td>0.739271</td>\n",
       "      <td>-0.017951</td>\n",
       "      <td>0.013999</td>\n",
       "      <td>-0.673023</td>\n",
       "      <td>NaN</td>\n",
       "      <td>NaN</td>\n",
       "      <td>NaN</td>\n",
       "      <td>-185.568427</td>\n",
       "      <td>-698.612434</td>\n",
       "      <td>12.192409</td>\n",
       "    </tr>\n",
       "    <tr>\n",
       "      <th>2</th>\n",
       "      <td>2012-01-08</td>\n",
       "      <td>1326033856978844</td>\n",
       "      <td>1326033856978844</td>\n",
       "      <td>-220.783928</td>\n",
       "      <td>-658.172094</td>\n",
       "      <td>1326033856974025</td>\n",
       "      <td>1901</td>\n",
       "      <td>NaN</td>\n",
       "      <td>NaN</td>\n",
       "      <td>NaN</td>\n",
       "      <td>...</td>\n",
       "      <td>0.734638</td>\n",
       "      <td>0.005887</td>\n",
       "      <td>-0.044830</td>\n",
       "      <td>0.676951</td>\n",
       "      <td>NaN</td>\n",
       "      <td>NaN</td>\n",
       "      <td>NaN</td>\n",
       "      <td>-220.783928</td>\n",
       "      <td>-658.172094</td>\n",
       "      <td>12.449934</td>\n",
       "    </tr>\n",
       "    <tr>\n",
       "      <th>3</th>\n",
       "      <td>2012-01-08</td>\n",
       "      <td>1326033864378977</td>\n",
       "      <td>1326033864378977</td>\n",
       "      <td>-220.558815</td>\n",
       "      <td>-648.160416</td>\n",
       "      <td>1326033864379343</td>\n",
       "      <td>1903</td>\n",
       "      <td>NaN</td>\n",
       "      <td>NaN</td>\n",
       "      <td>NaN</td>\n",
       "      <td>...</td>\n",
       "      <td>0.698052</td>\n",
       "      <td>-0.012873</td>\n",
       "      <td>-0.003518</td>\n",
       "      <td>0.715923</td>\n",
       "      <td>NaN</td>\n",
       "      <td>NaN</td>\n",
       "      <td>NaN</td>\n",
       "      <td>-220.558815</td>\n",
       "      <td>-648.160416</td>\n",
       "      <td>12.365693</td>\n",
       "    </tr>\n",
       "    <tr>\n",
       "      <th>4</th>\n",
       "      <td>2012-01-08</td>\n",
       "      <td>1326033871779108</td>\n",
       "      <td>1326033871779108</td>\n",
       "      <td>-221.055092</td>\n",
       "      <td>-637.928967</td>\n",
       "      <td>1326033871776400</td>\n",
       "      <td>1905</td>\n",
       "      <td>NaN</td>\n",
       "      <td>NaN</td>\n",
       "      <td>NaN</td>\n",
       "      <td>...</td>\n",
       "      <td>0.702432</td>\n",
       "      <td>-0.007351</td>\n",
       "      <td>-0.022911</td>\n",
       "      <td>0.711344</td>\n",
       "      <td>NaN</td>\n",
       "      <td>NaN</td>\n",
       "      <td>NaN</td>\n",
       "      <td>-221.055092</td>\n",
       "      <td>-637.928967</td>\n",
       "      <td>12.240057</td>\n",
       "    </tr>\n",
       "    <tr>\n",
       "      <th>5</th>\n",
       "      <td>2012-01-08</td>\n",
       "      <td>1326033965780843</td>\n",
       "      <td>1326033965780843</td>\n",
       "      <td>-221.139879</td>\n",
       "      <td>-589.305529</td>\n",
       "      <td>1326033965784565</td>\n",
       "      <td>1919</td>\n",
       "      <td>NaN</td>\n",
       "      <td>NaN</td>\n",
       "      <td>NaN</td>\n",
       "      <td>...</td>\n",
       "      <td>0.682693</td>\n",
       "      <td>-0.004527</td>\n",
       "      <td>-0.005915</td>\n",
       "      <td>0.730667</td>\n",
       "      <td>NaN</td>\n",
       "      <td>NaN</td>\n",
       "      <td>NaN</td>\n",
       "      <td>-221.139879</td>\n",
       "      <td>-589.305529</td>\n",
       "      <td>11.632470</td>\n",
       "    </tr>\n",
       "    <tr>\n",
       "      <th>6</th>\n",
       "      <td>2012-01-08</td>\n",
       "      <td>1326034374989334</td>\n",
       "      <td>1326034374989334</td>\n",
       "      <td>-198.300885</td>\n",
       "      <td>-467.818449</td>\n",
       "      <td>1326034374987655</td>\n",
       "      <td>2005</td>\n",
       "      <td>NaN</td>\n",
       "      <td>NaN</td>\n",
       "      <td>NaN</td>\n",
       "      <td>...</td>\n",
       "      <td>0.456725</td>\n",
       "      <td>0.011478</td>\n",
       "      <td>0.035579</td>\n",
       "      <td>-0.888822</td>\n",
       "      <td>NaN</td>\n",
       "      <td>NaN</td>\n",
       "      <td>NaN</td>\n",
       "      <td>-198.300885</td>\n",
       "      <td>-467.818449</td>\n",
       "      <td>11.783049</td>\n",
       "    </tr>\n",
       "    <tr>\n",
       "      <th>7</th>\n",
       "      <td>2012-01-08</td>\n",
       "      <td>1326034679795670</td>\n",
       "      <td>1326034679795670</td>\n",
       "      <td>-57.488839</td>\n",
       "      <td>-547.000474</td>\n",
       "      <td>1326034679801902</td>\n",
       "      <td>2065</td>\n",
       "      <td>NaN</td>\n",
       "      <td>NaN</td>\n",
       "      <td>NaN</td>\n",
       "      <td>...</td>\n",
       "      <td>0.999575</td>\n",
       "      <td>-0.007527</td>\n",
       "      <td>0.004556</td>\n",
       "      <td>0.027799</td>\n",
       "      <td>NaN</td>\n",
       "      <td>NaN</td>\n",
       "      <td>NaN</td>\n",
       "      <td>-57.488839</td>\n",
       "      <td>-547.000474</td>\n",
       "      <td>11.385074</td>\n",
       "    </tr>\n",
       "    <tr>\n",
       "      <th>8</th>\n",
       "      <td>2012-01-08</td>\n",
       "      <td>1326035120605145</td>\n",
       "      <td>1326035120605145</td>\n",
       "      <td>-77.826023</td>\n",
       "      <td>-335.446528</td>\n",
       "      <td>1326035120604836</td>\n",
       "      <td>2125</td>\n",
       "      <td>NaN</td>\n",
       "      <td>NaN</td>\n",
       "      <td>NaN</td>\n",
       "      <td>...</td>\n",
       "      <td>0.661835</td>\n",
       "      <td>0.000083</td>\n",
       "      <td>-0.043036</td>\n",
       "      <td>0.748413</td>\n",
       "      <td>NaN</td>\n",
       "      <td>NaN</td>\n",
       "      <td>NaN</td>\n",
       "      <td>-77.826023</td>\n",
       "      <td>-335.446528</td>\n",
       "      <td>8.299704</td>\n",
       "    </tr>\n",
       "  </tbody>\n",
       "</table>\n",
       "<p>9 rows × 21 columns</p>\n",
       "</div>"
      ],
      "text/plain": [
       "        track             image        pointcloud    northing     easting  \\\n",
       "0  2012-01-08  1326031198730853  1326031198730853  -48.332952 -205.678453   \n",
       "1  2012-01-08  1326032284751195  1326032284751195 -185.568427 -698.612434   \n",
       "2  2012-01-08  1326033856978844  1326033856978844 -220.783928 -658.172094   \n",
       "3  2012-01-08  1326033864378977  1326033864378977 -220.558815 -648.160416   \n",
       "4  2012-01-08  1326033871779108  1326033871779108 -221.055092 -637.928967   \n",
       "5  2012-01-08  1326033965780843  1326033965780843 -221.139879 -589.305529   \n",
       "6  2012-01-08  1326034374989334  1326034374989334 -198.300885 -467.818449   \n",
       "7  2012-01-08  1326034679795670  1326034679795670  -57.488839 -547.000474   \n",
       "8  2012-01-08  1326035120605145  1326035120605145  -77.826023 -335.446528   \n",
       "\n",
       "          timestamp  Unnamed: 0  down   r   p  ...        qw        qx  \\\n",
       "0  1326031198728706        1249   NaN NaN NaN  ...  0.768707 -0.041070   \n",
       "1  1326032284749527        1521   NaN NaN NaN  ...  0.739271 -0.017951   \n",
       "2  1326033856974025        1901   NaN NaN NaN  ...  0.734638  0.005887   \n",
       "3  1326033864379343        1903   NaN NaN NaN  ...  0.698052 -0.012873   \n",
       "4  1326033871776400        1905   NaN NaN NaN  ...  0.702432 -0.007351   \n",
       "5  1326033965784565        1919   NaN NaN NaN  ...  0.682693 -0.004527   \n",
       "6  1326034374987655        2005   NaN NaN NaN  ...  0.456725  0.011478   \n",
       "7  1326034679801902        2065   NaN NaN NaN  ...  0.999575 -0.007527   \n",
       "8  1326035120604836        2125   NaN NaN NaN  ...  0.661835  0.000083   \n",
       "\n",
       "         qy        qz   x   y   z          tx          ty         tz  \n",
       "0 -0.013121 -0.638147 NaN NaN NaN  -48.332952 -205.678453   3.517986  \n",
       "1  0.013999 -0.673023 NaN NaN NaN -185.568427 -698.612434  12.192409  \n",
       "2 -0.044830  0.676951 NaN NaN NaN -220.783928 -658.172094  12.449934  \n",
       "3 -0.003518  0.715923 NaN NaN NaN -220.558815 -648.160416  12.365693  \n",
       "4 -0.022911  0.711344 NaN NaN NaN -221.055092 -637.928967  12.240057  \n",
       "5 -0.005915  0.730667 NaN NaN NaN -221.139879 -589.305529  11.632470  \n",
       "6  0.035579 -0.888822 NaN NaN NaN -198.300885 -467.818449  11.783049  \n",
       "7  0.004556  0.027799 NaN NaN NaN  -57.488839 -547.000474  11.385074  \n",
       "8 -0.043036  0.748413 NaN NaN NaN  -77.826023 -335.446528   8.299704  \n",
       "\n",
       "[9 rows x 21 columns]"
      ]
     },
     "execution_count": 99,
     "metadata": {},
     "output_type": "execute_result"
    }
   ],
   "source": [
    "db_dataset.dataset_df"
   ]
  },
  {
   "cell_type": "markdown",
   "metadata": {},
   "source": [
    "### Processing for testing"
   ]
  },
  {
   "cell_type": "code",
   "execution_count": 7,
   "metadata": {},
   "outputs": [],
   "source": [
    "# tracks = [\"2012-01-22\", \"2012-01-08\"]\n",
    "# df_track = None\n",
    "\n",
    "# for track in tracks:\n",
    "#     df = pd.read_csv(os.path.join(DATABASE_TRACK_DIR, track, \"track.csv\"), index_col=0)\n",
    "#     if type(df_track) != pd.DataFrame:\n",
    "#         df_track = df\n",
    "#     else:\n",
    "#         df_track = pd.concat([df_track, df], axis=0)\n",
    "        \n",
    "# df_track = df_track[['timestamp', 'image', 'pointcloud', 'tx', 'ty', 'tz', 'qx', 'qy', 'qz', 'qw']].reset_index(drop=True)\n",
    "# df_track.to_csv(os.path.join(DATABASE_TRACK_DIR, \"track.csv\"))"
   ]
  },
  {
   "cell_type": "markdown",
   "metadata": {},
   "source": [
    "## Model"
   ]
  },
  {
   "cell_type": "code",
   "execution_count": 61,
   "metadata": {
    "id": "eEMuTJvaMpeF"
   },
   "outputs": [],
   "source": [
    "model_config = OmegaConf.load(MODEL_CONFIG_PATH)\n",
    "model = instantiate(model_config)\n",
    "model.load_state_dict(torch.load(WEIGHTS_PATH ))\n",
    "model = model.to(DEVICE)\n",
    "model.eval();"
   ]
  },
  {
   "cell_type": "markdown",
   "metadata": {
    "id": "K0G9OudXMkuw"
   },
   "source": [
    "## OCR model"
   ]
  },
  {
   "cell_type": "markdown",
   "metadata": {},
   "source": [
    "Jetson"
   ]
  },
  {
   "cell_type": "code",
   "execution_count": 9,
   "metadata": {},
   "outputs": [],
   "source": [
    "# !pip install paddlepaddle\n",
    "# !pip install paddleocr\n",
    "# !pip install paddleocr==2.8.0 --no-deps"
   ]
  },
  {
   "cell_type": "markdown",
   "metadata": {},
   "source": [
    "Other"
   ]
  },
  {
   "cell_type": "code",
   "execution_count": 10,
   "metadata": {},
   "outputs": [],
   "source": [
    "# !pip install paddlepaddle-gpu\n",
    "# !pip install paddleocr"
   ]
  },
  {
   "cell_type": "code",
   "execution_count": 33,
   "metadata": {
    "id": "YY2QYhRH6wa_"
   },
   "outputs": [],
   "source": [
    "OCR_MODEL_CONFIG_PATH = os.path.join(OPR_PATH, \"weights/paddleocr/config.yaml\")\n",
    "model_config = OmegaConf.load(OCR_MODEL_CONFIG_PATH)\n",
    "\n",
    "model_config.det_model_dir = os.path.join(OPR_PATH, \"weights/paddleocr/ch_PP-OCRv4_det_infer/inference.onnx\")\n",
    "model_config.return_word_box = False\n",
    "\n",
    "model_config.rec_model_dir = os.path.join(OPR_PATH, \"weights/paddleocr/en_PP-OCRv4_rec_infer/inference.onnx\")\n",
    "model_config.rec_char_dict_path = os.path.join(OPR_PATH, \"weights/paddleocr/en_dict.txt\")\n",
    "model_config.rec_algorithm = \"SVTR_LCNet\"\n",
    "\n",
    "model_config.use_gpu = torch.cuda.is_available()\n",
    "model_config.use_onnx = True\n",
    "model_config.show_log = False\n",
    "\n",
    "ocr_model = PaddleOcrPipeline(model_config)\n",
    "\n",
    "provider = 'cuda'\n",
    "# # provider = 'tensorrt'\n",
    "\n",
    "ocr_model.patch_onnx_povider(provider)"
   ]
  },
  {
   "cell_type": "markdown",
   "metadata": {
    "id": "3iaxEbw95jIw"
   },
   "source": [
    "## SpeedTest OCR"
   ]
  },
  {
   "cell_type": "markdown",
   "metadata": {},
   "source": [
    "### CPU"
   ]
  },
  {
   "cell_type": "code",
   "execution_count": 67,
   "metadata": {},
   "outputs": [],
   "source": [
    "OCR_MODEL_CONFIG_PATH = os.path.join(OPR_PATH, \"weights/paddleocr/config.yaml\")\n",
    "model_config = OmegaConf.load(OCR_MODEL_CONFIG_PATH)\n",
    "\n",
    "model_config.det_model_dir = os.path.join(OPR_PATH, \"weights/paddleocr/ch_PP-OCRv4_det_infer/\")\n",
    "model_config.return_word_box = False\n",
    "\n",
    "model_config.rec_model_dir = os.path.join(OPR_PATH, \"weights/paddleocr/en_PP-OCRv4_rec_infer/\")\n",
    "model_config.rec_char_dict_path = os.path.join(OPR_PATH, \"weights/paddleocr/en_dict.txt\")\n",
    "model_config.rec_algorithm = \"SVTR_LCNet\"\n",
    "\n",
    "model_config.use_gpu = torch.cuda.is_available()\n",
    "model_config.use_onnx = False\n",
    "model_config.use_mlu = False\n",
    "model_config.use_gpu = False\n",
    "model_config.show_log = False\n",
    "\n",
    "ocr_model = PaddleOcrPipeline(model_config)"
   ]
  },
  {
   "cell_type": "code",
   "execution_count": 35,
   "metadata": {
    "colab": {
     "base_uri": "https://localhost:8080/",
     "height": 1000
    },
    "id": "60fSEvXc5nkH",
    "outputId": "275e22f1-f708-4e4e-a51b-8a1b92151565"
   },
   "outputs": [],
   "source": [
    "image_folder = os.path.join(DATABASE_TRACK_DIR, \"2012-01-08/images_large/Cam2/\")\n",
    "\n",
    "limit_recognition = 100\n",
    "stats_cpu = []\n",
    "\n",
    "for image_name in tqdm(os.listdir(image_folder[:limit_recognition])[:limit_recognition]):\n",
    "    image_array = cv2.imread(image_folder + image_name)\n",
    "    image_array = cv2.cvtColor(image_array, cv2.COLOR_BGR2RGB)\n",
    "    filtered_boxes, rec_res, stat = ocr_model(image_array)\n",
    "    stats_cpu.append(stat)"
   ]
  },
  {
   "cell_type": "code",
   "execution_count": 70,
   "metadata": {},
   "outputs": [],
   "source": [
    "df_cpu = pd.DataFrame(stats_cpu)"
   ]
  },
  {
   "cell_type": "code",
   "execution_count": 72,
   "metadata": {},
   "outputs": [
    {
     "data": {
      "text/html": [
       "<div>\n",
       "<style scoped>\n",
       "    .dataframe tbody tr th:only-of-type {\n",
       "        vertical-align: middle;\n",
       "    }\n",
       "\n",
       "    .dataframe tbody tr th {\n",
       "        vertical-align: top;\n",
       "    }\n",
       "\n",
       "    .dataframe thead th {\n",
       "        text-align: right;\n",
       "    }\n",
       "</style>\n",
       "<table border=\"1\" class=\"dataframe\">\n",
       "  <thead>\n",
       "    <tr style=\"text-align: right;\">\n",
       "      <th></th>\n",
       "      <th>det</th>\n",
       "      <th>rec</th>\n",
       "      <th>cls</th>\n",
       "      <th>all</th>\n",
       "    </tr>\n",
       "  </thead>\n",
       "  <tbody>\n",
       "    <tr>\n",
       "      <th>count</th>\n",
       "      <td>113.000000</td>\n",
       "      <td>113.000000</td>\n",
       "      <td>113.0</td>\n",
       "      <td>113.000000</td>\n",
       "    </tr>\n",
       "    <tr>\n",
       "      <th>mean</th>\n",
       "      <td>2.126692</td>\n",
       "      <td>0.107163</td>\n",
       "      <td>0.0</td>\n",
       "      <td>2.235088</td>\n",
       "    </tr>\n",
       "    <tr>\n",
       "      <th>std</th>\n",
       "      <td>0.039012</td>\n",
       "      <td>0.147584</td>\n",
       "      <td>0.0</td>\n",
       "      <td>0.157787</td>\n",
       "    </tr>\n",
       "    <tr>\n",
       "      <th>min</th>\n",
       "      <td>2.028874</td>\n",
       "      <td>0.000002</td>\n",
       "      <td>0.0</td>\n",
       "      <td>2.029666</td>\n",
       "    </tr>\n",
       "    <tr>\n",
       "      <th>25%</th>\n",
       "      <td>2.105583</td>\n",
       "      <td>0.000003</td>\n",
       "      <td>0.0</td>\n",
       "      <td>2.120148</td>\n",
       "    </tr>\n",
       "    <tr>\n",
       "      <th>50%</th>\n",
       "      <td>2.124809</td>\n",
       "      <td>0.000004</td>\n",
       "      <td>0.0</td>\n",
       "      <td>2.180402</td>\n",
       "    </tr>\n",
       "    <tr>\n",
       "      <th>75%</th>\n",
       "      <td>2.148380</td>\n",
       "      <td>0.189332</td>\n",
       "      <td>0.0</td>\n",
       "      <td>2.320273</td>\n",
       "    </tr>\n",
       "    <tr>\n",
       "      <th>max</th>\n",
       "      <td>2.211350</td>\n",
       "      <td>0.907226</td>\n",
       "      <td>0.0</td>\n",
       "      <td>3.039259</td>\n",
       "    </tr>\n",
       "  </tbody>\n",
       "</table>\n",
       "</div>"
      ],
      "text/plain": [
       "              det         rec    cls         all\n",
       "count  113.000000  113.000000  113.0  113.000000\n",
       "mean     2.126692    0.107163    0.0    2.235088\n",
       "std      0.039012    0.147584    0.0    0.157787\n",
       "min      2.028874    0.000002    0.0    2.029666\n",
       "25%      2.105583    0.000003    0.0    2.120148\n",
       "50%      2.124809    0.000004    0.0    2.180402\n",
       "75%      2.148380    0.189332    0.0    2.320273\n",
       "max      2.211350    0.907226    0.0    3.039259"
      ]
     },
     "execution_count": 72,
     "metadata": {},
     "output_type": "execute_result"
    }
   ],
   "source": [
    "df_cpu.describe()"
   ]
  },
  {
   "cell_type": "markdown",
   "metadata": {},
   "source": [
    "#### Jetson"
   ]
  },
  {
   "attachments": {
    "a9ffafbb-88ff-4a58-bdfd-cafe9e86adc2.png": {
     "image/png": "[encoded data removed]"
    }
   },
   "cell_type": "markdown",
   "metadata": {},
   "source": [
    "![image.png](attachment:a9ffafbb-88ff-4a58-bdfd-cafe9e86adc2.png)"
   ]
  },
  {
   "cell_type": "markdown",
   "metadata": {},
   "source": [
    "### CPU onnx"
   ]
  },
  {
   "cell_type": "code",
   "execution_count": 23,
   "metadata": {},
   "outputs": [],
   "source": [
    "OCR_MODEL_CONFIG_PATH = os.path.join(OPR_PATH, \"weights/paddleocr/config.yaml\")\n",
    "model_config = OmegaConf.load(OCR_MODEL_CONFIG_PATH)\n",
    "\n",
    "model_config.det_model_dir = os.path.join(OPR_PATH, \"weights/paddleocr/ch_PP-OCRv4_det_infer/inference.onnx\")\n",
    "model_config.return_word_box = False\n",
    "\n",
    "model_config.rec_model_dir = os.path.join(OPR_PATH, \"weights/paddleocr/en_PP-OCRv4_rec_infer/inference.onnx\")\n",
    "model_config.rec_char_dict_path = os.path.join(OPR_PATH, \"weights/paddleocr/en_dict.txt\")\n",
    "model_config.rec_algorithm = \"SVTR_LCNet\"\n",
    "\n",
    "model_config.use_gpu = torch.cuda.is_available()\n",
    "model_config.use_onnx = True\n",
    "model_config.use_mlu = False\n",
    "model_config.use_gpu = False\n",
    "model_config.show_log = False\n",
    "\n",
    "ocr_model = PaddleOcrPipeline(model_config)"
   ]
  },
  {
   "cell_type": "code",
   "execution_count": 24,
   "metadata": {},
   "outputs": [
    {
     "data": {
      "application/vnd.jupyter.widget-view+json": {
       "model_id": "741ceb6ee20549989bcc23e2996db417",
       "version_major": 2,
       "version_minor": 0
      },
      "text/plain": [
       "  0%|          | 0/100 [00:00<?, ?it/s]"
      ]
     },
     "metadata": {},
     "output_type": "display_data"
    }
   ],
   "source": [
    "image_folder = os.path.join(DATABASE_TRACK_DIR, \"2012-01-08/images_large/Cam2/\")\n",
    "\n",
    "limit_recognition = 100\n",
    "stats_cpu_onnx = []\n",
    "\n",
    "for image_name in tqdm(os.listdir(image_folder)[:limit_recognition]):\n",
    "    image_array = cv2.imread(image_folder + image_name)\n",
    "    image_array = cv2.cvtColor(image_array, cv2.COLOR_BGR2RGB)\n",
    "    filtered_boxes, rec_res, stat = ocr_model(image_array)\n",
    "    stats_cpu_onnx.append(stat)"
   ]
  },
  {
   "cell_type": "code",
   "execution_count": 25,
   "metadata": {},
   "outputs": [],
   "source": [
    "df_cpu_onnx = pd.DataFrame(stats_cpu_onnx)"
   ]
  },
  {
   "cell_type": "code",
   "execution_count": 27,
   "metadata": {},
   "outputs": [],
   "source": [
    "# df_cpu_onnx.describe()"
   ]
  },
  {
   "cell_type": "markdown",
   "metadata": {},
   "source": [
    "#### RTX 3060"
   ]
  },
  {
   "attachments": {
    "82fc295b-0711-444d-9e2b-0d06fa80e2be.png": {
     "image/png": "[encoded data removed]"
    }
   },
   "cell_type": "markdown",
   "metadata": {},
   "source": [
    "![image.png](attachment:82fc295b-0711-444d-9e2b-0d06fa80e2be.png)"
   ]
  },
  {
   "cell_type": "markdown",
   "metadata": {},
   "source": [
    "### Jetson"
   ]
  },
  {
   "attachments": {
    "be8ad3aa-af70-40ce-8c86-bfe481e70cfd.png": {
     "image/png": "[encoded data removed]"
    }
   },
   "cell_type": "markdown",
   "metadata": {},
   "source": [
    "![image.png](attachment:be8ad3aa-af70-40ce-8c86-bfe481e70cfd.png)"
   ]
  },
  {
   "cell_type": "markdown",
   "metadata": {},
   "source": [
    "### GPU"
   ]
  },
  {
   "cell_type": "code",
   "execution_count": 62,
   "metadata": {},
   "outputs": [],
   "source": [
    "OCR_MODEL_CONFIG_PATH = os.path.join(OPR_PATH, \"weights/paddleocr/config.yaml\")\n",
    "model_config = OmegaConf.load(OCR_MODEL_CONFIG_PATH)\n",
    "\n",
    "model_config.det_model_dir = os.path.join(OPR_PATH, \"weights/paddleocr/ch_PP-OCRv4_det_infer/\")\n",
    "model_config.return_word_box = False\n",
    "\n",
    "model_config.rec_model_dir = os.path.join(OPR_PATH, \"weights/paddleocr/en_PP-OCRv4_rec_infer/\")\n",
    "model_config.rec_char_dict_path = os.path.join(OPR_PATH, \"weights/paddleocr/en_dict.txt\")\n",
    "model_config.rec_algorithm = \"SVTR_LCNet\"\n",
    "\n",
    "model_config.use_gpu = torch.cuda.is_available()\n",
    "model_config.use_onnx = False\n",
    "model_config.use_mlu = False\n",
    "model_config.use_gpu = True\n",
    "model_config.show_log = False\n",
    "\n",
    "ocr_model = PaddleOcrPipeline(model_config)"
   ]
  },
  {
   "cell_type": "code",
   "execution_count": 63,
   "metadata": {},
   "outputs": [
    {
     "data": {
      "application/vnd.jupyter.widget-view+json": {
       "model_id": "942ef042b9bc4703ac23def1f94234ae",
       "version_major": 2,
       "version_minor": 0
      },
      "text/plain": [
       "  0%|          | 0/100 [00:00<?, ?it/s]"
      ]
     },
     "metadata": {},
     "output_type": "display_data"
    }
   ],
   "source": [
    "image_folder = os.path.join(DATABASE_TRACK_DIR, \"2012-01-08/images_large/Cam2/\")\n",
    "\n",
    "limit_recognition = 100\n",
    "stats_gpu = []\n",
    "\n",
    "for image_name in tqdm(os.listdir(image_folder)[:limit_recognition]):\n",
    "    image_array = cv2.imread(image_folder + image_name)\n",
    "    image_array = cv2.cvtColor(image_array, cv2.COLOR_BGR2RGB)\n",
    "    filtered_boxes, rec_res, stat = ocr_model(image_array)\n",
    "    stats_gpu.append(stat)"
   ]
  },
  {
   "cell_type": "code",
   "execution_count": 64,
   "metadata": {},
   "outputs": [],
   "source": [
    "df_gpu = pd.DataFrame(stats_gpu)"
   ]
  },
  {
   "cell_type": "code",
   "execution_count": 33,
   "metadata": {},
   "outputs": [],
   "source": [
    "# df_gpu.describe()"
   ]
  },
  {
   "cell_type": "markdown",
   "metadata": {},
   "source": [
    "#### RTX 3060"
   ]
  },
  {
   "attachments": {
    "25102fce-d4e4-4f4b-b5a3-c630d5541bcc.png": {
     "image/png": "[encoded data removed]"
    }
   },
   "cell_type": "markdown",
   "metadata": {},
   "source": [
    "![image.png](attachment:25102fce-d4e4-4f4b-b5a3-c630d5541bcc.png)"
   ]
  },
  {
   "cell_type": "markdown",
   "metadata": {},
   "source": [
    "### GPU onnx"
   ]
  },
  {
   "cell_type": "code",
   "execution_count": 39,
   "metadata": {},
   "outputs": [],
   "source": [
    "OCR_MODEL_CONFIG_PATH = os.path.join(OPR_PATH, \"weights/paddleocr/config.yaml\")\n",
    "model_config = OmegaConf.load(OCR_MODEL_CONFIG_PATH)\n",
    "\n",
    "model_config.det_model_dir = os.path.join(OPR_PATH, \"weights/paddleocr/ch_PP-OCRv4_det_infer/inference.onnx\")\n",
    "model_config.return_word_box = False\n",
    "\n",
    "model_config.rec_model_dir = os.path.join(OPR_PATH, \"weights/paddleocr/en_PP-OCRv4_rec_infer/inference.onnx\")\n",
    "model_config.rec_char_dict_path = os.path.join(OPR_PATH, \"weights/paddleocr/en_dict.txt\")\n",
    "model_config.rec_algorithm = \"SVTR_LCNet\"\n",
    "\n",
    "model_config.use_gpu = torch.cuda.is_available()\n",
    "model_config.use_onnx = True\n",
    "model_config.use_mlu = False\n",
    "model_config.use_gpu = True\n",
    "model_config.show_log = False\n",
    "\n",
    "ocr_model = PaddleOcrPipeline(model_config)\n",
    "provider = 'cuda'\n",
    "ocr_model.patch_onnx_povider(provider)"
   ]
  },
  {
   "cell_type": "code",
   "execution_count": 40,
   "metadata": {},
   "outputs": [
    {
     "data": {
      "application/vnd.jupyter.widget-view+json": {
       "model_id": "317eab9d7fc94d14a282c313544695d9",
       "version_major": 2,
       "version_minor": 0
      },
      "text/plain": [
       "  0%|          | 0/100 [00:00<?, ?it/s]"
      ]
     },
     "metadata": {},
     "output_type": "display_data"
    }
   ],
   "source": [
    "image_folder = os.path.join(DATABASE_TRACK_DIR, \"2012-01-08/images_large/Cam2/\")\n",
    "\n",
    "limit_recognition = 100\n",
    "stats_gpu_onnx = []\n",
    "\n",
    "for image_name in tqdm(os.listdir(image_folder)[:limit_recognition]):\n",
    "    image_array = cv2.imread(image_folder + image_name)\n",
    "    image_array = cv2.cvtColor(image_array, cv2.COLOR_BGR2RGB)\n",
    "    filtered_boxes, rec_res, stat = ocr_model(image_array)\n",
    "    stats_gpu_onnx.append(stat)"
   ]
  },
  {
   "cell_type": "code",
   "execution_count": 82,
   "metadata": {},
   "outputs": [],
   "source": [
    "df_onnx_gpu = pd.DataFrame(stats_gpu_onnx)"
   ]
  },
  {
   "cell_type": "code",
   "execution_count": 42,
   "metadata": {},
   "outputs": [],
   "source": [
    "# df_onnx_gpu.describe()"
   ]
  },
  {
   "cell_type": "markdown",
   "metadata": {},
   "source": [
    "#### Jetson"
   ]
  },
  {
   "attachments": {
    "9de565e0-c1d1-4ef5-9a46-6d1aef2c6492.png": {
     "image/png": "[encoded data removed]"
    }
   },
   "cell_type": "markdown",
   "metadata": {},
   "source": [
    "![image.png](attachment:9de565e0-c1d1-4ef5-9a46-6d1aef2c6492.png)"
   ]
  },
  {
   "cell_type": "markdown",
   "metadata": {
    "id": "rsFt9KN1hAbE"
   },
   "source": [
    "## calculate index.faiss"
   ]
  },
  {
   "cell_type": "code",
   "execution_count": 100,
   "metadata": {
    "id": "npXfHnFGhAbG"
   },
   "outputs": [],
   "source": [
    "db_dataloader = DataLoader(\n",
    "    db_dataset,\n",
    "    batch_size=1,\n",
    "    shuffle=False,\n",
    "    num_workers=1,\n",
    "    collate_fn=db_dataset.collate_fn,\n",
    ")\n"
   ]
  },
  {
   "cell_type": "code",
   "execution_count": 101,
   "metadata": {
    "colab": {
     "base_uri": "https://localhost:8080/",
     "height": 49,
     "referenced_widgets": [
      "e7a700d6c0f24df389845198e4e255f9",
      "8f3acd289ced416792cc64a9164ce03a",
      "a034f0d7f9734798b421f1b6cc977c09",
      "f3ba754f32474320b78f467869090379",
      "5d1ee5d3b67444b5bc1b1394a09a1475",
      "44607bab8df345558f14d217e0f4fc0a",
      "b4b1e4ccbd084bbda6e7564465dbc22d",
      "e4a16cce969f483ea7d56ab9d2560ad7",
      "b24aeba0c696449bac9aa9c04babee42",
      "d18bcba901644eb0b5751a1ac403c398",
      "e8db363400124e8695e0b28677c3190f"
     ]
    },
    "id": "cadXr7tshAbH",
    "outputId": "ad8676b2-7cec-4ca2-ddad-4ea3edbe2659"
   },
   "outputs": [
    {
     "data": {
      "application/vnd.jupyter.widget-view+json": {
       "model_id": "df8b3ad9f9fc422c92d94d1efa7ad862",
       "version_major": 2,
       "version_minor": 0
      },
      "text/plain": [
       "  0%|          | 0/9 [00:00<?, ?it/s]"
      ]
     },
     "metadata": {},
     "output_type": "display_data"
    }
   ],
   "source": [
    "descriptors = []\n",
    "with torch.no_grad():\n",
    "    for batch in tqdm(db_dataloader):\n",
    "        batch = {k: v.to(DEVICE) for k, v in batch.items()}\n",
    "        final_descriptor = model(batch)[\"final_descriptor\"]\n",
    "        descriptors.append(final_descriptor.detach().cpu().numpy())\n",
    "\n",
    "descriptors = np.concatenate(descriptors, axis=0)"
   ]
  },
  {
   "cell_type": "code",
   "execution_count": 102,
   "metadata": {
    "colab": {
     "base_uri": "https://localhost:8080/"
    },
    "id": "6P4CvCzKhAbI",
    "outputId": "01c2501b-8e90-4f3d-b995-f4b71fbc2b6e"
   },
   "outputs": [
    {
     "name": "stdout",
     "output_type": "stream",
     "text": [
      "True\n",
      "9\n"
     ]
    }
   ],
   "source": [
    "index = faiss.IndexFlatL2(descriptors.shape[1])\n",
    "index.add(descriptors)\n",
    "print(index.is_trained)\n",
    "print(index.ntotal)"
   ]
  },
  {
   "cell_type": "code",
   "execution_count": 103,
   "metadata": {
    "id": "BCdweFr8hAbJ"
   },
   "outputs": [],
   "source": [
    "faiss.write_index(index, DATABASE_TRACK_DIR + \"/index.faiss\")"
   ]
  },
  {
   "cell_type": "markdown",
   "metadata": {
    "id": "0sutCUPwhAbJ"
   },
   "source": [
    "# Pipeline"
   ]
  },
  {
   "cell_type": "code",
   "execution_count": 104,
   "metadata": {
    "id": "lZzb5DYjhAbK"
   },
   "outputs": [],
   "source": [
    "ocr_pipe = TextLabelsPlaceRecognitionOCRPipeline(\n",
    "    db_labels_path=DB_LABELS_PATH,\n",
    "    database_dir=DATABASE_TRACK_DIR,\n",
    "    model=model,\n",
    "    model_weights_path=WEIGHTS_PATH,\n",
    "    device=DEVICE,\n",
    ")\n",
    "ocr_pipe.init_ocr_model(ocr_model)\n",
    "\n",
    "default_pipe = PlaceRecognitionPipeline(\n",
    "    database_dir=DATABASE_TRACK_DIR,\n",
    "    model=model,\n",
    "    model_weights_path=WEIGHTS_PATH,\n",
    "    device=DEVICE,\n",
    ")"
   ]
  },
  {
   "cell_type": "markdown",
   "metadata": {
    "id": "r06Hi_I7mzHO"
   },
   "source": [
    "### Results only on frames with text labels (TextLabelsPlaceRecognitionOCRPipeline)"
   ]
  },
  {
   "cell_type": "code",
   "execution_count": 105,
   "metadata": {},
   "outputs": [],
   "source": [
    "import time\n",
    "from geotransformer.utils.registration import compute_registration_error\n",
    "from geotransformer.utils.pointcloud import get_transform_from_rotation_translation"
   ]
  },
  {
   "cell_type": "code",
   "execution_count": 113,
   "metadata": {
    "colab": {
     "base_uri": "https://localhost:8080/",
     "height": 49,
     "referenced_widgets": [
      "b0afdaffa7a04c52be770ecc1b618b1b",
      "b8ce445a40684d848403111b0c09bc9e",
      "64bd0733a42e450bad177ee07a2fddcf",
      "4282ac2ace194c4d8cf01ee75f087c06",
      "4034b1d9509f4175861dee5b359f5b40",
      "0a7f82bb679e4ced9e3f9ea3994a91a6",
      "98c12b5e331e49569a1cab7f81691931",
      "4e69cdd03427436486edd69e0bd35ae4",
      "fc23d268168942908bc0b1ab1787a7bd",
      "5a5cbe7d691f43b68ced2b3889514442",
      "cd44fa6298934d11a11d2935defa4dd6"
     ]
    },
    "id": "Tq_I-d2Vm22Q",
    "outputId": "98b0f34a-115d-448a-c9ad-03e55e31c0d4"
   },
   "outputs": [
    {
     "data": {
      "application/vnd.jupyter.widget-view+json": {
       "model_id": "578db190a0544b0e8cc85826166e16a0",
       "version_major": 2,
       "version_minor": 0
      },
      "text/plain": [
       "  0%|          | 0/275 [00:00<?, ?it/s]"
      ]
     },
     "metadata": {},
     "output_type": "display_data"
    }
   ],
   "source": [
    "PR_MATCH_THRESHOLD = 25.0\n",
    "pr_matches = []\n",
    "rre_list = []\n",
    "rte_list = []\n",
    "times = []\n",
    "all_preds = []\n",
    "\n",
    "\n",
    "for id in tqdm(range(len(query_dataset))):\n",
    "    data = query_dataset[id]\n",
    "    gt_pose = data.pop(\"pose\")\n",
    "    gt_pose = get_transform_from_rotation_translation(Rotation.from_quat(gt_pose[3:]).as_matrix(), gt_pose[:3])\n",
    "\n",
    "    start_time = time.time()\n",
    "    pipe_out, ocr_preds = ocr_pipe.infer(data, ocr_predictions=True)\n",
    "    all_preds.append(ocr_preds)\n",
    "    times.append(time.time() - start_time)\n",
    "\n",
    "    estimated_pose = pipe_out[\"pose\"]\n",
    "    estimated_pose = get_transform_from_rotation_translation(Rotation.from_quat(estimated_pose[3:]).as_matrix(), estimated_pose[:3])\n",
    "\n",
    "    _, db_match_distance = compute_registration_error(gt_pose, estimated_pose)\n",
    "    pr_matched = db_match_distance <= PR_MATCH_THRESHOLD\n",
    "    pr_matches.append(pr_matched)\n",
    "    \n",
    "    if pr_matched:\n",
    "        rre, rte = compute_registration_error(gt_pose, estimated_pose)\n",
    "        rre_list.append(rre)\n",
    "        rte_list.append(rte)\n"
   ]
  },
  {
   "cell_type": "code",
   "execution_count": 108,
   "metadata": {
    "colab": {
     "base_uri": "https://localhost:8080/"
    },
    "id": "A17RinuJm92Y",
    "outputId": "d84c514b-be78-4e9a-d1dd-f58028a1ef70"
   },
   "outputs": [
    {
     "name": "stdout",
     "output_type": "stream",
     "text": [
      "PlaceRecognition R@1 = 0.091\n",
      "Localization Mean RRE = 118.473\n",
      "Localization Mean RTE = 3.617\n",
      "Localization Median RRE = 120.622\n",
      "Localization Median RTE = 0.518\n",
      "Mean Time = 190.28 ms\n"
     ]
    }
   ],
   "source": [
    "print(f\"PlaceRecognition R@1 = {np.mean(pr_matches):0.3f}\")\n",
    "print(f\"Localization Mean RRE = {np.mean(rre_list):0.3f}\")\n",
    "print(f\"Localization Mean RTE = {np.mean(rte_list):0.3f}\")\n",
    "\n",
    "print(f\"Localization Median RRE = {np.median(rre_list):0.3f}\")\n",
    "print(f\"Localization Median RTE = {np.median(rte_list):0.3f}\")\n",
    "\n",
    "print(f\"Mean Time = {(np.mean(times) * 1000):0.2f} ms\")"
   ]
  },
  {
   "cell_type": "markdown",
   "metadata": {
    "id": "Np4uTa4ThAbS"
   },
   "source": [
    "### Results only on frames with text labels (PlaceRecognitionPipeline)"
   ]
  },
  {
   "cell_type": "code",
   "execution_count": 22,
   "metadata": {
    "colab": {
     "base_uri": "https://localhost:8080/",
     "height": 49,
     "referenced_widgets": [
      "f3c98f9bcdd34368972be1e6bf173c5f",
      "d1f74b3ddde34d768989eceb3ee7681d",
      "f42d8a8760934bbb959d07608a69fa76",
      "77e93711fdde453696c6bbd013990c70",
      "2b61fec684ad44a69576aa124224c4d9",
      "3b6cebd4e2324dd7b43d7f17b6158f70",
      "323b8ea347244d3fbe0501b6d9a487b5",
      "1fa42d722f3540e1a1b3317edf0eee83",
      "6d83c6563aaf4848898847243397c9a2",
      "03a34bbe99d14941a2cadb5843dc06b8",
      "b1192bc140104498842ec2197d390171"
     ]
    },
    "id": "l4ig4YpAhAbS",
    "outputId": "7c4fbf72-20d6-457b-bc13-2a1673770eb0"
   },
   "outputs": [
    {
     "data": {
      "application/vnd.jupyter.widget-view+json": {
       "model_id": "8717ae3d83d0491f9c7f9b1fc64cc34d",
       "version_major": 2,
       "version_minor": 0
      },
      "text/plain": [
       "  0%|          | 0/275 [00:00<?, ?it/s]"
      ]
     },
     "metadata": {},
     "output_type": "display_data"
    }
   ],
   "source": [
    "PR_MATCH_THRESHOLD = 25.0\n",
    "pr_matches = []\n",
    "rre_list = []\n",
    "rte_list = []\n",
    "times = []\n",
    "\n",
    "\n",
    "for id in tqdm(range(len(query_dataset))):\n",
    "    data = query_dataset[id]\n",
    "    gt_pose = data.pop(\"pose\")\n",
    "    gt_pose = get_transform_from_rotation_translation(Rotation.from_quat(gt_pose[3:]).as_matrix(), gt_pose[:3])\n",
    "\n",
    "    start_time = time.time()\n",
    "    pipe_out = default_pipe.infer(data)\n",
    "    times.append(time.time() - start_time)\n",
    "\n",
    "    estimated_pose = pipe_out[\"pose\"]\n",
    "    estimated_pose = get_transform_from_rotation_translation(Rotation.from_quat(estimated_pose[3:]).as_matrix(), estimated_pose[:3])\n",
    "\n",
    "    _, db_match_distance = compute_registration_error(gt_pose, estimated_pose)\n",
    "    pr_matched = db_match_distance <= PR_MATCH_THRESHOLD\n",
    "    pr_matches.append(pr_matched)\n",
    "\n",
    "    if pr_matched:\n",
    "        rre, rte = compute_registration_error(gt_pose, estimated_pose)\n",
    "        rre_list.append(rre)\n",
    "        rte_list.append(rte)"
   ]
  },
  {
   "cell_type": "code",
   "execution_count": 23,
   "metadata": {
    "colab": {
     "base_uri": "https://localhost:8080/"
    },
    "id": "l733g6OZhAbT",
    "outputId": "f73ae63f-f18f-45f0-d8e1-0a5f73213028"
   },
   "outputs": [
    {
     "name": "stdout",
     "output_type": "stream",
     "text": [
      "PlaceRecognition R@1 = 0.000\n",
      "Localization Mean RRE = nan\n",
      "Localization Mean RTE = nan\n",
      "Localization Median RRE = nan\n",
      "Localization Median RTE = nan\n",
      "Mean Time = 58.35 ms\n"
     ]
    }
   ],
   "source": [
    "print(f\"PlaceRecognition R@1 = {np.mean(pr_matches):0.3f}\")\n",
    "print(f\"Localization Mean RRE = {np.mean(rre_list):0.3f}\")\n",
    "print(f\"Localization Mean RTE = {np.mean(rte_list):0.3f}\")\n",
    "\n",
    "print(f\"Localization Median RRE = {np.median(rre_list):0.3f}\")\n",
    "print(f\"Localization Median RTE = {np.median(rte_list):0.3f}\")\n",
    "\n",
    "print(f\"Mean Time = {(np.mean(times) * 1000):0.2f} ms\")"
   ]
  },
  {
   "cell_type": "code",
   "execution_count": 31,
   "metadata": {
    "colab": {
     "base_uri": "https://localhost:8080/"
    },
    "id": "QFycPP_YhAbU",
    "outputId": "3751ad15-c150-404b-a205-68dd359ba115"
   },
   "outputs": [
    {
     "data": {
      "text/plain": [
       "(0, 0)"
      ]
     },
     "execution_count": 31,
     "metadata": {},
     "output_type": "execute_result"
    }
   ],
   "source": [
    "len(pr_matches), len(rre_list)"
   ]
  }
 ],
 "metadata": {
  "accelerator": "GPU",
  "colab": {
   "gpuType": "T4",
   "provenance": []
  },
  "kernelspec": {
   "display_name": "Python 3 (ipykernel)",
   "language": "python",
   "name": "python3"
  },
  "language_info": {
   "codemirror_mode": {
    "name": "ipython",
    "version": 3
   },
   "file_extension": ".py",
   "mimetype": "text/x-python",
   "name": "python",
   "nbconvert_exporter": "python",
   "pygments_lexer": "ipython3",
   "version": "3.10.12"
  },
  "widgets": {
   "application/vnd.jupyter.widget-state+json": {
    "002967a82beb4558b768c37ecdefa4fa": {
     "model_module": "@jupyter-widgets/base",
     "model_module_version": "1.2.0",
     "model_name": "LayoutModel",
     "state": {
      "_model_module": "@jupyter-widgets/base",
      "_model_module_version": "1.2.0",
      "_model_name": "LayoutModel",
      "_view_count": null,
      "_view_module": "@jupyter-widgets/base",
      "_view_module_version": "1.2.0",
      "_view_name": "LayoutView",
      "align_content": null,
      "align_items": null,
      "align_self": null,
      "border": null,
      "bottom": null,
      "display": null,
      "flex": null,
      "flex_flow": null,
      "grid_area": null,
      "grid_auto_columns": null,
      "grid_auto_flow": null,
      "grid_auto_rows": null,
      "grid_column": null,
      "grid_gap": null,
      "grid_row": null,
      "grid_template_areas": null,
      "grid_template_columns": null,
      "grid_template_rows": null,
      "height": null,
      "justify_content": null,
      "justify_items": null,
      "left": null,
      "margin": null,
      "max_height": null,
      "max_width": null,
      "min_height": null,
      "min_width": null,
      "object_fit": null,
      "object_position": null,
      "order": null,
      "overflow": null,
      "overflow_x": null,
      "overflow_y": null,
      "padding": null,
      "right": null,
      "top": null,
      "visibility": null,
      "width": null
     }
    },
    "03a34bbe99d14941a2cadb5843dc06b8": {
     "model_module": "@jupyter-widgets/base",
     "model_module_version": "1.2.0",
     "model_name": "LayoutModel",
     "state": {
      "_model_module": "@jupyter-widgets/base",
      "_model_module_version": "1.2.0",
      "_model_name": "LayoutModel",
      "_view_count": null,
      "_view_module": "@jupyter-widgets/base",
      "_view_module_version": "1.2.0",
      "_view_name": "LayoutView",
      "align_content": null,
      "align_items": null,
      "align_self": null,
      "border": null,
      "bottom": null,
      "display": null,
      "flex": null,
      "flex_flow": null,
      "grid_area": null,
      "grid_auto_columns": null,
      "grid_auto_flow": null,
      "grid_auto_rows": null,
      "grid_column": null,
      "grid_gap": null,
      "grid_row": null,
      "grid_template_areas": null,
      "grid_template_columns": null,
      "grid_template_rows": null,
      "height": null,
      "justify_content": null,
      "justify_items": null,
      "left": null,
      "margin": null,
      "max_height": null,
      "max_width": null,
      "min_height": null,
      "min_width": null,
      "object_fit": null,
      "object_position": null,
      "order": null,
      "overflow": null,
      "overflow_x": null,
      "overflow_y": null,
      "padding": null,
      "right": null,
      "top": null,
      "visibility": null,
      "width": null
     }
    },
    "056d73c26bcc4075b292f8a0c49422e5": {
     "model_module": "@jupyter-widgets/controls",
     "model_module_version": "1.5.0",
     "model_name": "HBoxModel",
     "state": {
      "_dom_classes": [],
      "_model_module": "@jupyter-widgets/controls",
      "_model_module_version": "1.5.0",
      "_model_name": "HBoxModel",
      "_view_count": null,
      "_view_module": "@jupyter-widgets/controls",
      "_view_module_version": "1.5.0",
      "_view_name": "HBoxView",
      "box_style": "",
      "children": [
       "IPY_MODEL_b2e203508d56476aa987c620d0f469a8",
       "IPY_MODEL_9c26f8cdc0c6487c8cb9b3eed96b61d0",
       "IPY_MODEL_85f3d68eaa204de786bd418857491191"
      ],
      "layout": "IPY_MODEL_5c89b64f958e42b5a7d02ae735097c5b"
     }
    },
    "0a7f82bb679e4ced9e3f9ea3994a91a6": {
     "model_module": "@jupyter-widgets/base",
     "model_module_version": "1.2.0",
     "model_name": "LayoutModel",
     "state": {
      "_model_module": "@jupyter-widgets/base",
      "_model_module_version": "1.2.0",
      "_model_name": "LayoutModel",
      "_view_count": null,
      "_view_module": "@jupyter-widgets/base",
      "_view_module_version": "1.2.0",
      "_view_name": "LayoutView",
      "align_content": null,
      "align_items": null,
      "align_self": null,
      "border": null,
      "bottom": null,
      "display": null,
      "flex": null,
      "flex_flow": null,
      "grid_area": null,
      "grid_auto_columns": null,
      "grid_auto_flow": null,
      "grid_auto_rows": null,
      "grid_column": null,
      "grid_gap": null,
      "grid_row": null,
      "grid_template_areas": null,
      "grid_template_columns": null,
      "grid_template_rows": null,
      "height": null,
      "justify_content": null,
      "justify_items": null,
      "left": null,
      "margin": null,
      "max_height": null,
      "max_width": null,
      "min_height": null,
      "min_width": null,
      "object_fit": null,
      "object_position": null,
      "order": null,
      "overflow": null,
      "overflow_x": null,
      "overflow_y": null,
      "padding": null,
      "right": null,
      "top": null,
      "visibility": null,
      "width": null
     }
    },
    "11ccad97208a4f5f8fd279a8efe8843a": {
     "model_module": "@jupyter-widgets/controls",
     "model_module_version": "1.5.0",
     "model_name": "HBoxModel",
     "state": {
      "_dom_classes": [],
      "_model_module": "@jupyter-widgets/controls",
      "_model_module_version": "1.5.0",
      "_model_name": "HBoxModel",
      "_view_count": null,
      "_view_module": "@jupyter-widgets/controls",
      "_view_module_version": "1.5.0",
      "_view_name": "HBoxView",
      "box_style": "",
      "children": [
       "IPY_MODEL_2ed16f4a062242a98eb06021d56a12cf",
       "IPY_MODEL_d29e5b4e5c2647918ac0973903f62e90",
       "IPY_MODEL_5927a64b65064b1f9ce87a8461a9c4db"
      ],
      "layout": "IPY_MODEL_9fb7ba04a9c34751a99a9e967d109d75"
     }
    },
    "1fa42d722f3540e1a1b3317edf0eee83": {
     "model_module": "@jupyter-widgets/base",
     "model_module_version": "1.2.0",
     "model_name": "LayoutModel",
     "state": {
      "_model_module": "@jupyter-widgets/base",
      "_model_module_version": "1.2.0",
      "_model_name": "LayoutModel",
      "_view_count": null,
      "_view_module": "@jupyter-widgets/base",
      "_view_module_version": "1.2.0",
      "_view_name": "LayoutView",
      "align_content": null,
      "align_items": null,
      "align_self": null,
      "border": null,
      "bottom": null,
      "display": null,
      "flex": null,
      "flex_flow": null,
      "grid_area": null,
      "grid_auto_columns": null,
      "grid_auto_flow": null,
      "grid_auto_rows": null,
      "grid_column": null,
      "grid_gap": null,
      "grid_row": null,
      "grid_template_areas": null,
      "grid_template_columns": null,
      "grid_template_rows": null,
      "height": null,
      "justify_content": null,
      "justify_items": null,
      "left": null,
      "margin": null,
      "max_height": null,
      "max_width": null,
      "min_height": null,
      "min_width": null,
      "object_fit": null,
      "object_position": null,
      "order": null,
      "overflow": null,
      "overflow_x": null,
      "overflow_y": null,
      "padding": null,
      "right": null,
      "top": null,
      "visibility": null,
      "width": null
     }
    },
    "2b61fec684ad44a69576aa124224c4d9": {
     "model_module": "@jupyter-widgets/base",
     "model_module_version": "1.2.0",
     "model_name": "LayoutModel",
     "state": {
      "_model_module": "@jupyter-widgets/base",
      "_model_module_version": "1.2.0",
      "_model_name": "LayoutModel",
      "_view_count": null,
      "_view_module": "@jupyter-widgets/base",
      "_view_module_version": "1.2.0",
      "_view_name": "LayoutView",
      "align_content": null,
      "align_items": null,
      "align_self": null,
      "border": null,
      "bottom": null,
      "display": null,
      "flex": null,
      "flex_flow": null,
      "grid_area": null,
      "grid_auto_columns": null,
      "grid_auto_flow": null,
      "grid_auto_rows": null,
      "grid_column": null,
      "grid_gap": null,
      "grid_row": null,
      "grid_template_areas": null,
      "grid_template_columns": null,
      "grid_template_rows": null,
      "height": null,
      "justify_content": null,
      "justify_items": null,
      "left": null,
      "margin": null,
      "max_height": null,
      "max_width": null,
      "min_height": null,
      "min_width": null,
      "object_fit": null,
      "object_position": null,
      "order": null,
      "overflow": null,
      "overflow_x": null,
      "overflow_y": null,
      "padding": null,
      "right": null,
      "top": null,
      "visibility": null,
      "width": null
     }
    },
    "2ed16f4a062242a98eb06021d56a12cf": {
     "model_module": "@jupyter-widgets/controls",
     "model_module_version": "1.5.0",
     "model_name": "HTMLModel",
     "state": {
      "_dom_classes": [],
      "_model_module": "@jupyter-widgets/controls",
      "_model_module_version": "1.5.0",
      "_model_name": "HTMLModel",
      "_view_count": null,
      "_view_module": "@jupyter-widgets/controls",
      "_view_module_version": "1.5.0",
      "_view_name": "HTMLView",
      "description": "",
      "description_tooltip": null,
      "layout": "IPY_MODEL_3a6ec5f7896b44358f46d8aa1801ef9c",
      "placeholder": "​",
      "style": "IPY_MODEL_cf6727f5e4524437b761225dc4645198",
      "value": "100%"
     }
    },
    "323b8ea347244d3fbe0501b6d9a487b5": {
     "model_module": "@jupyter-widgets/controls",
     "model_module_version": "1.5.0",
     "model_name": "DescriptionStyleModel",
     "state": {
      "_model_module": "@jupyter-widgets/controls",
      "_model_module_version": "1.5.0",
      "_model_name": "DescriptionStyleModel",
      "_view_count": null,
      "_view_module": "@jupyter-widgets/base",
      "_view_module_version": "1.2.0",
      "_view_name": "StyleView",
      "description_width": ""
     }
    },
    "3a6ec5f7896b44358f46d8aa1801ef9c": {
     "model_module": "@jupyter-widgets/base",
     "model_module_version": "1.2.0",
     "model_name": "LayoutModel",
     "state": {
      "_model_module": "@jupyter-widgets/base",
      "_model_module_version": "1.2.0",
      "_model_name": "LayoutModel",
      "_view_count": null,
      "_view_module": "@jupyter-widgets/base",
      "_view_module_version": "1.2.0",
      "_view_name": "LayoutView",
      "align_content": null,
      "align_items": null,
      "align_self": null,
      "border": null,
      "bottom": null,
      "display": null,
      "flex": null,
      "flex_flow": null,
      "grid_area": null,
      "grid_auto_columns": null,
      "grid_auto_flow": null,
      "grid_auto_rows": null,
      "grid_column": null,
      "grid_gap": null,
      "grid_row": null,
      "grid_template_areas": null,
      "grid_template_columns": null,
      "grid_template_rows": null,
      "height": null,
      "justify_content": null,
      "justify_items": null,
      "left": null,
      "margin": null,
      "max_height": null,
      "max_width": null,
      "min_height": null,
      "min_width": null,
      "object_fit": null,
      "object_position": null,
      "order": null,
      "overflow": null,
      "overflow_x": null,
      "overflow_y": null,
      "padding": null,
      "right": null,
      "top": null,
      "visibility": null,
      "width": null
     }
    },
    "3b6cebd4e2324dd7b43d7f17b6158f70": {
     "model_module": "@jupyter-widgets/base",
     "model_module_version": "1.2.0",
     "model_name": "LayoutModel",
     "state": {
      "_model_module": "@jupyter-widgets/base",
      "_model_module_version": "1.2.0",
      "_model_name": "LayoutModel",
      "_view_count": null,
      "_view_module": "@jupyter-widgets/base",
      "_view_module_version": "1.2.0",
      "_view_name": "LayoutView",
      "align_content": null,
      "align_items": null,
      "align_self": null,
      "border": null,
      "bottom": null,
      "display": null,
      "flex": null,
      "flex_flow": null,
      "grid_area": null,
      "grid_auto_columns": null,
      "grid_auto_flow": null,
      "grid_auto_rows": null,
      "grid_column": null,
      "grid_gap": null,
      "grid_row": null,
      "grid_template_areas": null,
      "grid_template_columns": null,
      "grid_template_rows": null,
      "height": null,
      "justify_content": null,
      "justify_items": null,
      "left": null,
      "margin": null,
      "max_height": null,
      "max_width": null,
      "min_height": null,
      "min_width": null,
      "object_fit": null,
      "object_position": null,
      "order": null,
      "overflow": null,
      "overflow_x": null,
      "overflow_y": null,
      "padding": null,
      "right": null,
      "top": null,
      "visibility": null,
      "width": null
     }
    },
    "4034b1d9509f4175861dee5b359f5b40": {
     "model_module": "@jupyter-widgets/base",
     "model_module_version": "1.2.0",
     "model_name": "LayoutModel",
     "state": {
      "_model_module": "@jupyter-widgets/base",
      "_model_module_version": "1.2.0",
      "_model_name": "LayoutModel",
      "_view_count": null,
      "_view_module": "@jupyter-widgets/base",
      "_view_module_version": "1.2.0",
      "_view_name": "LayoutView",
      "align_content": null,
      "align_items": null,
      "align_self": null,
      "border": null,
      "bottom": null,
      "display": null,
      "flex": null,
      "flex_flow": null,
      "grid_area": null,
      "grid_auto_columns": null,
      "grid_auto_flow": null,
      "grid_auto_rows": null,
      "grid_column": null,
      "grid_gap": null,
      "grid_row": null,
      "grid_template_areas": null,
      "grid_template_columns": null,
      "grid_template_rows": null,
      "height": null,
      "justify_content": null,
      "justify_items": null,
      "left": null,
      "margin": null,
      "max_height": null,
      "max_width": null,
      "min_height": null,
      "min_width": null,
      "object_fit": null,
      "object_position": null,
      "order": null,
      "overflow": null,
      "overflow_x": null,
      "overflow_y": null,
      "padding": null,
      "right": null,
      "top": null,
      "visibility": null,
      "width": null
     }
    },
    "4282ac2ace194c4d8cf01ee75f087c06": {
     "model_module": "@jupyter-widgets/controls",
     "model_module_version": "1.5.0",
     "model_name": "HTMLModel",
     "state": {
      "_dom_classes": [],
      "_model_module": "@jupyter-widgets/controls",
      "_model_module_version": "1.5.0",
      "_model_name": "HTMLModel",
      "_view_count": null,
      "_view_module": "@jupyter-widgets/controls",
      "_view_module_version": "1.5.0",
      "_view_name": "HTMLView",
      "description": "",
      "description_tooltip": null,
      "layout": "IPY_MODEL_5a5cbe7d691f43b68ced2b3889514442",
      "placeholder": "​",
      "style": "IPY_MODEL_cd44fa6298934d11a11d2935defa4dd6",
      "value": " 239/239 [00:15&lt;00:00,  8.02it/s]"
     }
    },
    "44607bab8df345558f14d217e0f4fc0a": {
     "model_module": "@jupyter-widgets/base",
     "model_module_version": "1.2.0",
     "model_name": "LayoutModel",
     "state": {
      "_model_module": "@jupyter-widgets/base",
      "_model_module_version": "1.2.0",
      "_model_name": "LayoutModel",
      "_view_count": null,
      "_view_module": "@jupyter-widgets/base",
      "_view_module_version": "1.2.0",
      "_view_name": "LayoutView",
      "align_content": null,
      "align_items": null,
      "align_self": null,
      "border": null,
      "bottom": null,
      "display": null,
      "flex": null,
      "flex_flow": null,
      "grid_area": null,
      "grid_auto_columns": null,
      "grid_auto_flow": null,
      "grid_auto_rows": null,
      "grid_column": null,
      "grid_gap": null,
      "grid_row": null,
      "grid_template_areas": null,
      "grid_template_columns": null,
      "grid_template_rows": null,
      "height": null,
      "justify_content": null,
      "justify_items": null,
      "left": null,
      "margin": null,
      "max_height": null,
      "max_width": null,
      "min_height": null,
      "min_width": null,
      "object_fit": null,
      "object_position": null,
      "order": null,
      "overflow": null,
      "overflow_x": null,
      "overflow_y": null,
      "padding": null,
      "right": null,
      "top": null,
      "visibility": null,
      "width": null
     }
    },
    "4e69cdd03427436486edd69e0bd35ae4": {
     "model_module": "@jupyter-widgets/base",
     "model_module_version": "1.2.0",
     "model_name": "LayoutModel",
     "state": {
      "_model_module": "@jupyter-widgets/base",
      "_model_module_version": "1.2.0",
      "_model_name": "LayoutModel",
      "_view_count": null,
      "_view_module": "@jupyter-widgets/base",
      "_view_module_version": "1.2.0",
      "_view_name": "LayoutView",
      "align_content": null,
      "align_items": null,
      "align_self": null,
      "border": null,
      "bottom": null,
      "display": null,
      "flex": null,
      "flex_flow": null,
      "grid_area": null,
      "grid_auto_columns": null,
      "grid_auto_flow": null,
      "grid_auto_rows": null,
      "grid_column": null,
      "grid_gap": null,
      "grid_row": null,
      "grid_template_areas": null,
      "grid_template_columns": null,
      "grid_template_rows": null,
      "height": null,
      "justify_content": null,
      "justify_items": null,
      "left": null,
      "margin": null,
      "max_height": null,
      "max_width": null,
      "min_height": null,
      "min_width": null,
      "object_fit": null,
      "object_position": null,
      "order": null,
      "overflow": null,
      "overflow_x": null,
      "overflow_y": null,
      "padding": null,
      "right": null,
      "top": null,
      "visibility": null,
      "width": null
     }
    },
    "5927a64b65064b1f9ce87a8461a9c4db": {
     "model_module": "@jupyter-widgets/controls",
     "model_module_version": "1.5.0",
     "model_name": "HTMLModel",
     "state": {
      "_dom_classes": [],
      "_model_module": "@jupyter-widgets/controls",
      "_model_module_version": "1.5.0",
      "_model_name": "HTMLModel",
      "_view_count": null,
      "_view_module": "@jupyter-widgets/controls",
      "_view_module_version": "1.5.0",
      "_view_name": "HTMLView",
      "description": "",
      "description_tooltip": null,
      "layout": "IPY_MODEL_002967a82beb4558b768c37ecdefa4fa",
      "placeholder": "​",
      "style": "IPY_MODEL_bab1b702de9846398d35d71f20c84235",
      "value": " 239/239 [00:42&lt;00:00,  6.12it/s]"
     }
    },
    "5a5cbe7d691f43b68ced2b3889514442": {
     "model_module": "@jupyter-widgets/base",
     "model_module_version": "1.2.0",
     "model_name": "LayoutModel",
     "state": {
      "_model_module": "@jupyter-widgets/base",
      "_model_module_version": "1.2.0",
      "_model_name": "LayoutModel",
      "_view_count": null,
      "_view_module": "@jupyter-widgets/base",
      "_view_module_version": "1.2.0",
      "_view_name": "LayoutView",
      "align_content": null,
      "align_items": null,
      "align_self": null,
      "border": null,
      "bottom": null,
      "display": null,
      "flex": null,
      "flex_flow": null,
      "grid_area": null,
      "grid_auto_columns": null,
      "grid_auto_flow": null,
      "grid_auto_rows": null,
      "grid_column": null,
      "grid_gap": null,
      "grid_row": null,
      "grid_template_areas": null,
      "grid_template_columns": null,
      "grid_template_rows": null,
      "height": null,
      "justify_content": null,
      "justify_items": null,
      "left": null,
      "margin": null,
      "max_height": null,
      "max_width": null,
      "min_height": null,
      "min_width": null,
      "object_fit": null,
      "object_position": null,
      "order": null,
      "overflow": null,
      "overflow_x": null,
      "overflow_y": null,
      "padding": null,
      "right": null,
      "top": null,
      "visibility": null,
      "width": null
     }
    },
    "5c89b64f958e42b5a7d02ae735097c5b": {
     "model_module": "@jupyter-widgets/base",
     "model_module_version": "1.2.0",
     "model_name": "LayoutModel",
     "state": {
      "_model_module": "@jupyter-widgets/base",
      "_model_module_version": "1.2.0",
      "_model_name": "LayoutModel",
      "_view_count": null,
      "_view_module": "@jupyter-widgets/base",
      "_view_module_version": "1.2.0",
      "_view_name": "LayoutView",
      "align_content": null,
      "align_items": null,
      "align_self": null,
      "border": null,
      "bottom": null,
      "display": null,
      "flex": null,
      "flex_flow": null,
      "grid_area": null,
      "grid_auto_columns": null,
      "grid_auto_flow": null,
      "grid_auto_rows": null,
      "grid_column": null,
      "grid_gap": null,
      "grid_row": null,
      "grid_template_areas": null,
      "grid_template_columns": null,
      "grid_template_rows": null,
      "height": null,
      "justify_content": null,
      "justify_items": null,
      "left": null,
      "margin": null,
      "max_height": null,
      "max_width": null,
      "min_height": null,
      "min_width": null,
      "object_fit": null,
      "object_position": null,
      "order": null,
      "overflow": null,
      "overflow_x": null,
      "overflow_y": null,
      "padding": null,
      "right": null,
      "top": null,
      "visibility": null,
      "width": null
     }
    },
    "5d1ee5d3b67444b5bc1b1394a09a1475": {
     "model_module": "@jupyter-widgets/base",
     "model_module_version": "1.2.0",
     "model_name": "LayoutModel",
     "state": {
      "_model_module": "@jupyter-widgets/base",
      "_model_module_version": "1.2.0",
      "_model_name": "LayoutModel",
      "_view_count": null,
      "_view_module": "@jupyter-widgets/base",
      "_view_module_version": "1.2.0",
      "_view_name": "LayoutView",
      "align_content": null,
      "align_items": null,
      "align_self": null,
      "border": null,
      "bottom": null,
      "display": null,
      "flex": null,
      "flex_flow": null,
      "grid_area": null,
      "grid_auto_columns": null,
      "grid_auto_flow": null,
      "grid_auto_rows": null,
      "grid_column": null,
      "grid_gap": null,
      "grid_row": null,
      "grid_template_areas": null,
      "grid_template_columns": null,
      "grid_template_rows": null,
      "height": null,
      "justify_content": null,
      "justify_items": null,
      "left": null,
      "margin": null,
      "max_height": null,
      "max_width": null,
      "min_height": null,
      "min_width": null,
      "object_fit": null,
      "object_position": null,
      "order": null,
      "overflow": null,
      "overflow_x": null,
      "overflow_y": null,
      "padding": null,
      "right": null,
      "top": null,
      "visibility": null,
      "width": null
     }
    },
    "5e4e6754e83e471f8abb461603d373e9": {
     "model_module": "@jupyter-widgets/controls",
     "model_module_version": "1.5.0",
     "model_name": "DescriptionStyleModel",
     "state": {
      "_model_module": "@jupyter-widgets/controls",
      "_model_module_version": "1.5.0",
      "_model_name": "DescriptionStyleModel",
      "_view_count": null,
      "_view_module": "@jupyter-widgets/base",
      "_view_module_version": "1.2.0",
      "_view_name": "StyleView",
      "description_width": ""
     }
    },
    "60ce3c38662149308d3f21a1afde3ab3": {
     "model_module": "@jupyter-widgets/controls",
     "model_module_version": "1.5.0",
     "model_name": "ProgressStyleModel",
     "state": {
      "_model_module": "@jupyter-widgets/controls",
      "_model_module_version": "1.5.0",
      "_model_name": "ProgressStyleModel",
      "_view_count": null,
      "_view_module": "@jupyter-widgets/base",
      "_view_module_version": "1.2.0",
      "_view_name": "StyleView",
      "bar_color": null,
      "description_width": ""
     }
    },
    "63c3b84a9a1e48e8925682d4456d74d1": {
     "model_module": "@jupyter-widgets/base",
     "model_module_version": "1.2.0",
     "model_name": "LayoutModel",
     "state": {
      "_model_module": "@jupyter-widgets/base",
      "_model_module_version": "1.2.0",
      "_model_name": "LayoutModel",
      "_view_count": null,
      "_view_module": "@jupyter-widgets/base",
      "_view_module_version": "1.2.0",
      "_view_name": "LayoutView",
      "align_content": null,
      "align_items": null,
      "align_self": null,
      "border": null,
      "bottom": null,
      "display": null,
      "flex": null,
      "flex_flow": null,
      "grid_area": null,
      "grid_auto_columns": null,
      "grid_auto_flow": null,
      "grid_auto_rows": null,
      "grid_column": null,
      "grid_gap": null,
      "grid_row": null,
      "grid_template_areas": null,
      "grid_template_columns": null,
      "grid_template_rows": null,
      "height": null,
      "justify_content": null,
      "justify_items": null,
      "left": null,
      "margin": null,
      "max_height": null,
      "max_width": null,
      "min_height": null,
      "min_width": null,
      "object_fit": null,
      "object_position": null,
      "order": null,
      "overflow": null,
      "overflow_x": null,
      "overflow_y": null,
      "padding": null,
      "right": null,
      "top": null,
      "visibility": null,
      "width": null
     }
    },
    "64bd0733a42e450bad177ee07a2fddcf": {
     "model_module": "@jupyter-widgets/controls",
     "model_module_version": "1.5.0",
     "model_name": "FloatProgressModel",
     "state": {
      "_dom_classes": [],
      "_model_module": "@jupyter-widgets/controls",
      "_model_module_version": "1.5.0",
      "_model_name": "FloatProgressModel",
      "_view_count": null,
      "_view_module": "@jupyter-widgets/controls",
      "_view_module_version": "1.5.0",
      "_view_name": "ProgressView",
      "bar_style": "success",
      "description": "",
      "description_tooltip": null,
      "layout": "IPY_MODEL_4e69cdd03427436486edd69e0bd35ae4",
      "max": 239,
      "min": 0,
      "orientation": "horizontal",
      "style": "IPY_MODEL_fc23d268168942908bc0b1ab1787a7bd",
      "value": 239
     }
    },
    "6afcfeae84dd4bf990fd95a7fc7a08a6": {
     "model_module": "@jupyter-widgets/controls",
     "model_module_version": "1.5.0",
     "model_name": "ProgressStyleModel",
     "state": {
      "_model_module": "@jupyter-widgets/controls",
      "_model_module_version": "1.5.0",
      "_model_name": "ProgressStyleModel",
      "_view_count": null,
      "_view_module": "@jupyter-widgets/base",
      "_view_module_version": "1.2.0",
      "_view_name": "StyleView",
      "bar_color": null,
      "description_width": ""
     }
    },
    "6d83c6563aaf4848898847243397c9a2": {
     "model_module": "@jupyter-widgets/controls",
     "model_module_version": "1.5.0",
     "model_name": "ProgressStyleModel",
     "state": {
      "_model_module": "@jupyter-widgets/controls",
      "_model_module_version": "1.5.0",
      "_model_name": "ProgressStyleModel",
      "_view_count": null,
      "_view_module": "@jupyter-widgets/base",
      "_view_module_version": "1.2.0",
      "_view_name": "StyleView",
      "bar_color": null,
      "description_width": ""
     }
    },
    "756a52ac0c0c4abd97c10ee273d65425": {
     "model_module": "@jupyter-widgets/base",
     "model_module_version": "1.2.0",
     "model_name": "LayoutModel",
     "state": {
      "_model_module": "@jupyter-widgets/base",
      "_model_module_version": "1.2.0",
      "_model_name": "LayoutModel",
      "_view_count": null,
      "_view_module": "@jupyter-widgets/base",
      "_view_module_version": "1.2.0",
      "_view_name": "LayoutView",
      "align_content": null,
      "align_items": null,
      "align_self": null,
      "border": null,
      "bottom": null,
      "display": null,
      "flex": null,
      "flex_flow": null,
      "grid_area": null,
      "grid_auto_columns": null,
      "grid_auto_flow": null,
      "grid_auto_rows": null,
      "grid_column": null,
      "grid_gap": null,
      "grid_row": null,
      "grid_template_areas": null,
      "grid_template_columns": null,
      "grid_template_rows": null,
      "height": null,
      "justify_content": null,
      "justify_items": null,
      "left": null,
      "margin": null,
      "max_height": null,
      "max_width": null,
      "min_height": null,
      "min_width": null,
      "object_fit": null,
      "object_position": null,
      "order": null,
      "overflow": null,
      "overflow_x": null,
      "overflow_y": null,
      "padding": null,
      "right": null,
      "top": null,
      "visibility": null,
      "width": null
     }
    },
    "77e93711fdde453696c6bbd013990c70": {
     "model_module": "@jupyter-widgets/controls",
     "model_module_version": "1.5.0",
     "model_name": "HTMLModel",
     "state": {
      "_dom_classes": [],
      "_model_module": "@jupyter-widgets/controls",
      "_model_module_version": "1.5.0",
      "_model_name": "HTMLModel",
      "_view_count": null,
      "_view_module": "@jupyter-widgets/controls",
      "_view_module_version": "1.5.0",
      "_view_name": "HTMLView",
      "description": "",
      "description_tooltip": null,
      "layout": "IPY_MODEL_03a34bbe99d14941a2cadb5843dc06b8",
      "placeholder": "​",
      "style": "IPY_MODEL_b1192bc140104498842ec2197d390171",
      "value": " 239/239 [00:11&lt;00:00,  6.84it/s]"
     }
    },
    "85f3d68eaa204de786bd418857491191": {
     "model_module": "@jupyter-widgets/controls",
     "model_module_version": "1.5.0",
     "model_name": "HTMLModel",
     "state": {
      "_dom_classes": [],
      "_model_module": "@jupyter-widgets/controls",
      "_model_module_version": "1.5.0",
      "_model_name": "HTMLModel",
      "_view_count": null,
      "_view_module": "@jupyter-widgets/controls",
      "_view_module_version": "1.5.0",
      "_view_name": "HTMLView",
      "description": "",
      "description_tooltip": null,
      "layout": "IPY_MODEL_63c3b84a9a1e48e8925682d4456d74d1",
      "placeholder": "​",
      "style": "IPY_MODEL_9cba3e60c5844859b481590af00dd2d8",
      "value": " 239/239 [00:14&lt;00:00, 11.76it/s]"
     }
    },
    "8f3acd289ced416792cc64a9164ce03a": {
     "model_module": "@jupyter-widgets/controls",
     "model_module_version": "1.5.0",
     "model_name": "HTMLModel",
     "state": {
      "_dom_classes": [],
      "_model_module": "@jupyter-widgets/controls",
      "_model_module_version": "1.5.0",
      "_model_name": "HTMLModel",
      "_view_count": null,
      "_view_module": "@jupyter-widgets/controls",
      "_view_module_version": "1.5.0",
      "_view_name": "HTMLView",
      "description": "",
      "description_tooltip": null,
      "layout": "IPY_MODEL_44607bab8df345558f14d217e0f4fc0a",
      "placeholder": "​",
      "style": "IPY_MODEL_b4b1e4ccbd084bbda6e7564465dbc22d",
      "value": "100%"
     }
    },
    "98c12b5e331e49569a1cab7f81691931": {
     "model_module": "@jupyter-widgets/controls",
     "model_module_version": "1.5.0",
     "model_name": "DescriptionStyleModel",
     "state": {
      "_model_module": "@jupyter-widgets/controls",
      "_model_module_version": "1.5.0",
      "_model_name": "DescriptionStyleModel",
      "_view_count": null,
      "_view_module": "@jupyter-widgets/base",
      "_view_module_version": "1.2.0",
      "_view_name": "StyleView",
      "description_width": ""
     }
    },
    "9c26f8cdc0c6487c8cb9b3eed96b61d0": {
     "model_module": "@jupyter-widgets/controls",
     "model_module_version": "1.5.0",
     "model_name": "FloatProgressModel",
     "state": {
      "_dom_classes": [],
      "_model_module": "@jupyter-widgets/controls",
      "_model_module_version": "1.5.0",
      "_model_name": "FloatProgressModel",
      "_view_count": null,
      "_view_module": "@jupyter-widgets/controls",
      "_view_module_version": "1.5.0",
      "_view_name": "ProgressView",
      "bar_style": "success",
      "description": "",
      "description_tooltip": null,
      "layout": "IPY_MODEL_dce137479ed7409f81a3af3b7b92ef89",
      "max": 239,
      "min": 0,
      "orientation": "horizontal",
      "style": "IPY_MODEL_6afcfeae84dd4bf990fd95a7fc7a08a6",
      "value": 239
     }
    },
    "9cba3e60c5844859b481590af00dd2d8": {
     "model_module": "@jupyter-widgets/controls",
     "model_module_version": "1.5.0",
     "model_name": "DescriptionStyleModel",
     "state": {
      "_model_module": "@jupyter-widgets/controls",
      "_model_module_version": "1.5.0",
      "_model_name": "DescriptionStyleModel",
      "_view_count": null,
      "_view_module": "@jupyter-widgets/base",
      "_view_module_version": "1.2.0",
      "_view_name": "StyleView",
      "description_width": ""
     }
    },
    "9fb7ba04a9c34751a99a9e967d109d75": {
     "model_module": "@jupyter-widgets/base",
     "model_module_version": "1.2.0",
     "model_name": "LayoutModel",
     "state": {
      "_model_module": "@jupyter-widgets/base",
      "_model_module_version": "1.2.0",
      "_model_name": "LayoutModel",
      "_view_count": null,
      "_view_module": "@jupyter-widgets/base",
      "_view_module_version": "1.2.0",
      "_view_name": "LayoutView",
      "align_content": null,
      "align_items": null,
      "align_self": null,
      "border": null,
      "bottom": null,
      "display": null,
      "flex": null,
      "flex_flow": null,
      "grid_area": null,
      "grid_auto_columns": null,
      "grid_auto_flow": null,
      "grid_auto_rows": null,
      "grid_column": null,
      "grid_gap": null,
      "grid_row": null,
      "grid_template_areas": null,
      "grid_template_columns": null,
      "grid_template_rows": null,
      "height": null,
      "justify_content": null,
      "justify_items": null,
      "left": null,
      "margin": null,
      "max_height": null,
      "max_width": null,
      "min_height": null,
      "min_width": null,
      "object_fit": null,
      "object_position": null,
      "order": null,
      "overflow": null,
      "overflow_x": null,
      "overflow_y": null,
      "padding": null,
      "right": null,
      "top": null,
      "visibility": null,
      "width": null
     }
    },
    "a034f0d7f9734798b421f1b6cc977c09": {
     "model_module": "@jupyter-widgets/controls",
     "model_module_version": "1.5.0",
     "model_name": "FloatProgressModel",
     "state": {
      "_dom_classes": [],
      "_model_module": "@jupyter-widgets/controls",
      "_model_module_version": "1.5.0",
      "_model_name": "FloatProgressModel",
      "_view_count": null,
      "_view_module": "@jupyter-widgets/controls",
      "_view_module_version": "1.5.0",
      "_view_name": "ProgressView",
      "bar_style": "success",
      "description": "",
      "description_tooltip": null,
      "layout": "IPY_MODEL_e4a16cce969f483ea7d56ab9d2560ad7",
      "max": 16,
      "min": 0,
      "orientation": "horizontal",
      "style": "IPY_MODEL_b24aeba0c696449bac9aa9c04babee42",
      "value": 16
     }
    },
    "b0afdaffa7a04c52be770ecc1b618b1b": {
     "model_module": "@jupyter-widgets/controls",
     "model_module_version": "1.5.0",
     "model_name": "HBoxModel",
     "state": {
      "_dom_classes": [],
      "_model_module": "@jupyter-widgets/controls",
      "_model_module_version": "1.5.0",
      "_model_name": "HBoxModel",
      "_view_count": null,
      "_view_module": "@jupyter-widgets/controls",
      "_view_module_version": "1.5.0",
      "_view_name": "HBoxView",
      "box_style": "",
      "children": [
       "IPY_MODEL_b8ce445a40684d848403111b0c09bc9e",
       "IPY_MODEL_64bd0733a42e450bad177ee07a2fddcf",
       "IPY_MODEL_4282ac2ace194c4d8cf01ee75f087c06"
      ],
      "layout": "IPY_MODEL_4034b1d9509f4175861dee5b359f5b40"
     }
    },
    "b1192bc140104498842ec2197d390171": {
     "model_module": "@jupyter-widgets/controls",
     "model_module_version": "1.5.0",
     "model_name": "DescriptionStyleModel",
     "state": {
      "_model_module": "@jupyter-widgets/controls",
      "_model_module_version": "1.5.0",
      "_model_name": "DescriptionStyleModel",
      "_view_count": null,
      "_view_module": "@jupyter-widgets/base",
      "_view_module_version": "1.2.0",
      "_view_name": "StyleView",
      "description_width": ""
     }
    },
    "b24aeba0c696449bac9aa9c04babee42": {
     "model_module": "@jupyter-widgets/controls",
     "model_module_version": "1.5.0",
     "model_name": "ProgressStyleModel",
     "state": {
      "_model_module": "@jupyter-widgets/controls",
      "_model_module_version": "1.5.0",
      "_model_name": "ProgressStyleModel",
      "_view_count": null,
      "_view_module": "@jupyter-widgets/base",
      "_view_module_version": "1.2.0",
      "_view_name": "StyleView",
      "bar_color": null,
      "description_width": ""
     }
    },
    "b2e203508d56476aa987c620d0f469a8": {
     "model_module": "@jupyter-widgets/controls",
     "model_module_version": "1.5.0",
     "model_name": "HTMLModel",
     "state": {
      "_dom_classes": [],
      "_model_module": "@jupyter-widgets/controls",
      "_model_module_version": "1.5.0",
      "_model_name": "HTMLModel",
      "_view_count": null,
      "_view_module": "@jupyter-widgets/controls",
      "_view_module_version": "1.5.0",
      "_view_name": "HTMLView",
      "description": "",
      "description_tooltip": null,
      "layout": "IPY_MODEL_cac64ffc4da544e7969408d81cf4db59",
      "placeholder": "​",
      "style": "IPY_MODEL_5e4e6754e83e471f8abb461603d373e9",
      "value": "100%"
     }
    },
    "b4b1e4ccbd084bbda6e7564465dbc22d": {
     "model_module": "@jupyter-widgets/controls",
     "model_module_version": "1.5.0",
     "model_name": "DescriptionStyleModel",
     "state": {
      "_model_module": "@jupyter-widgets/controls",
      "_model_module_version": "1.5.0",
      "_model_name": "DescriptionStyleModel",
      "_view_count": null,
      "_view_module": "@jupyter-widgets/base",
      "_view_module_version": "1.2.0",
      "_view_name": "StyleView",
      "description_width": ""
     }
    },
    "b8ce445a40684d848403111b0c09bc9e": {
     "model_module": "@jupyter-widgets/controls",
     "model_module_version": "1.5.0",
     "model_name": "HTMLModel",
     "state": {
      "_dom_classes": [],
      "_model_module": "@jupyter-widgets/controls",
      "_model_module_version": "1.5.0",
      "_model_name": "HTMLModel",
      "_view_count": null,
      "_view_module": "@jupyter-widgets/controls",
      "_view_module_version": "1.5.0",
      "_view_name": "HTMLView",
      "description": "",
      "description_tooltip": null,
      "layout": "IPY_MODEL_0a7f82bb679e4ced9e3f9ea3994a91a6",
      "placeholder": "​",
      "style": "IPY_MODEL_98c12b5e331e49569a1cab7f81691931",
      "value": "100%"
     }
    },
    "bab1b702de9846398d35d71f20c84235": {
     "model_module": "@jupyter-widgets/controls",
     "model_module_version": "1.5.0",
     "model_name": "DescriptionStyleModel",
     "state": {
      "_model_module": "@jupyter-widgets/controls",
      "_model_module_version": "1.5.0",
      "_model_name": "DescriptionStyleModel",
      "_view_count": null,
      "_view_module": "@jupyter-widgets/base",
      "_view_module_version": "1.2.0",
      "_view_name": "StyleView",
      "description_width": ""
     }
    },
    "cac64ffc4da544e7969408d81cf4db59": {
     "model_module": "@jupyter-widgets/base",
     "model_module_version": "1.2.0",
     "model_name": "LayoutModel",
     "state": {
      "_model_module": "@jupyter-widgets/base",
      "_model_module_version": "1.2.0",
      "_model_name": "LayoutModel",
      "_view_count": null,
      "_view_module": "@jupyter-widgets/base",
      "_view_module_version": "1.2.0",
      "_view_name": "LayoutView",
      "align_content": null,
      "align_items": null,
      "align_self": null,
      "border": null,
      "bottom": null,
      "display": null,
      "flex": null,
      "flex_flow": null,
      "grid_area": null,
      "grid_auto_columns": null,
      "grid_auto_flow": null,
      "grid_auto_rows": null,
      "grid_column": null,
      "grid_gap": null,
      "grid_row": null,
      "grid_template_areas": null,
      "grid_template_columns": null,
      "grid_template_rows": null,
      "height": null,
      "justify_content": null,
      "justify_items": null,
      "left": null,
      "margin": null,
      "max_height": null,
      "max_width": null,
      "min_height": null,
      "min_width": null,
      "object_fit": null,
      "object_position": null,
      "order": null,
      "overflow": null,
      "overflow_x": null,
      "overflow_y": null,
      "padding": null,
      "right": null,
      "top": null,
      "visibility": null,
      "width": null
     }
    },
    "cd44fa6298934d11a11d2935defa4dd6": {
     "model_module": "@jupyter-widgets/controls",
     "model_module_version": "1.5.0",
     "model_name": "DescriptionStyleModel",
     "state": {
      "_model_module": "@jupyter-widgets/controls",
      "_model_module_version": "1.5.0",
      "_model_name": "DescriptionStyleModel",
      "_view_count": null,
      "_view_module": "@jupyter-widgets/base",
      "_view_module_version": "1.2.0",
      "_view_name": "StyleView",
      "description_width": ""
     }
    },
    "cf6727f5e4524437b761225dc4645198": {
     "model_module": "@jupyter-widgets/controls",
     "model_module_version": "1.5.0",
     "model_name": "DescriptionStyleModel",
     "state": {
      "_model_module": "@jupyter-widgets/controls",
      "_model_module_version": "1.5.0",
      "_model_name": "DescriptionStyleModel",
      "_view_count": null,
      "_view_module": "@jupyter-widgets/base",
      "_view_module_version": "1.2.0",
      "_view_name": "StyleView",
      "description_width": ""
     }
    },
    "d18bcba901644eb0b5751a1ac403c398": {
     "model_module": "@jupyter-widgets/base",
     "model_module_version": "1.2.0",
     "model_name": "LayoutModel",
     "state": {
      "_model_module": "@jupyter-widgets/base",
      "_model_module_version": "1.2.0",
      "_model_name": "LayoutModel",
      "_view_count": null,
      "_view_module": "@jupyter-widgets/base",
      "_view_module_version": "1.2.0",
      "_view_name": "LayoutView",
      "align_content": null,
      "align_items": null,
      "align_self": null,
      "border": null,
      "bottom": null,
      "display": null,
      "flex": null,
      "flex_flow": null,
      "grid_area": null,
      "grid_auto_columns": null,
      "grid_auto_flow": null,
      "grid_auto_rows": null,
      "grid_column": null,
      "grid_gap": null,
      "grid_row": null,
      "grid_template_areas": null,
      "grid_template_columns": null,
      "grid_template_rows": null,
      "height": null,
      "justify_content": null,
      "justify_items": null,
      "left": null,
      "margin": null,
      "max_height": null,
      "max_width": null,
      "min_height": null,
      "min_width": null,
      "object_fit": null,
      "object_position": null,
      "order": null,
      "overflow": null,
      "overflow_x": null,
      "overflow_y": null,
      "padding": null,
      "right": null,
      "top": null,
      "visibility": null,
      "width": null
     }
    },
    "d1f74b3ddde34d768989eceb3ee7681d": {
     "model_module": "@jupyter-widgets/controls",
     "model_module_version": "1.5.0",
     "model_name": "HTMLModel",
     "state": {
      "_dom_classes": [],
      "_model_module": "@jupyter-widgets/controls",
      "_model_module_version": "1.5.0",
      "_model_name": "HTMLModel",
      "_view_count": null,
      "_view_module": "@jupyter-widgets/controls",
      "_view_module_version": "1.5.0",
      "_view_name": "HTMLView",
      "description": "",
      "description_tooltip": null,
      "layout": "IPY_MODEL_3b6cebd4e2324dd7b43d7f17b6158f70",
      "placeholder": "​",
      "style": "IPY_MODEL_323b8ea347244d3fbe0501b6d9a487b5",
      "value": "100%"
     }
    },
    "d29e5b4e5c2647918ac0973903f62e90": {
     "model_module": "@jupyter-widgets/controls",
     "model_module_version": "1.5.0",
     "model_name": "FloatProgressModel",
     "state": {
      "_dom_classes": [],
      "_model_module": "@jupyter-widgets/controls",
      "_model_module_version": "1.5.0",
      "_model_name": "FloatProgressModel",
      "_view_count": null,
      "_view_module": "@jupyter-widgets/controls",
      "_view_module_version": "1.5.0",
      "_view_name": "ProgressView",
      "bar_style": "success",
      "description": "",
      "description_tooltip": null,
      "layout": "IPY_MODEL_756a52ac0c0c4abd97c10ee273d65425",
      "max": 239,
      "min": 0,
      "orientation": "horizontal",
      "style": "IPY_MODEL_60ce3c38662149308d3f21a1afde3ab3",
      "value": 239
     }
    },
    "dce137479ed7409f81a3af3b7b92ef89": {
     "model_module": "@jupyter-widgets/base",
     "model_module_version": "1.2.0",
     "model_name": "LayoutModel",
     "state": {
      "_model_module": "@jupyter-widgets/base",
      "_model_module_version": "1.2.0",
      "_model_name": "LayoutModel",
      "_view_count": null,
      "_view_module": "@jupyter-widgets/base",
      "_view_module_version": "1.2.0",
      "_view_name": "LayoutView",
      "align_content": null,
      "align_items": null,
      "align_self": null,
      "border": null,
      "bottom": null,
      "display": null,
      "flex": null,
      "flex_flow": null,
      "grid_area": null,
      "grid_auto_columns": null,
      "grid_auto_flow": null,
      "grid_auto_rows": null,
      "grid_column": null,
      "grid_gap": null,
      "grid_row": null,
      "grid_template_areas": null,
      "grid_template_columns": null,
      "grid_template_rows": null,
      "height": null,
      "justify_content": null,
      "justify_items": null,
      "left": null,
      "margin": null,
      "max_height": null,
      "max_width": null,
      "min_height": null,
      "min_width": null,
      "object_fit": null,
      "object_position": null,
      "order": null,
      "overflow": null,
      "overflow_x": null,
      "overflow_y": null,
      "padding": null,
      "right": null,
      "top": null,
      "visibility": null,
      "width": null
     }
    },
    "e4a16cce969f483ea7d56ab9d2560ad7": {
     "model_module": "@jupyter-widgets/base",
     "model_module_version": "1.2.0",
     "model_name": "LayoutModel",
     "state": {
      "_model_module": "@jupyter-widgets/base",
      "_model_module_version": "1.2.0",
      "_model_name": "LayoutModel",
      "_view_count": null,
      "_view_module": "@jupyter-widgets/base",
      "_view_module_version": "1.2.0",
      "_view_name": "LayoutView",
      "align_content": null,
      "align_items": null,
      "align_self": null,
      "border": null,
      "bottom": null,
      "display": null,
      "flex": null,
      "flex_flow": null,
      "grid_area": null,
      "grid_auto_columns": null,
      "grid_auto_flow": null,
      "grid_auto_rows": null,
      "grid_column": null,
      "grid_gap": null,
      "grid_row": null,
      "grid_template_areas": null,
      "grid_template_columns": null,
      "grid_template_rows": null,
      "height": null,
      "justify_content": null,
      "justify_items": null,
      "left": null,
      "margin": null,
      "max_height": null,
      "max_width": null,
      "min_height": null,
      "min_width": null,
      "object_fit": null,
      "object_position": null,
      "order": null,
      "overflow": null,
      "overflow_x": null,
      "overflow_y": null,
      "padding": null,
      "right": null,
      "top": null,
      "visibility": null,
      "width": null
     }
    },
    "e7a700d6c0f24df389845198e4e255f9": {
     "model_module": "@jupyter-widgets/controls",
     "model_module_version": "1.5.0",
     "model_name": "HBoxModel",
     "state": {
      "_dom_classes": [],
      "_model_module": "@jupyter-widgets/controls",
      "_model_module_version": "1.5.0",
      "_model_name": "HBoxModel",
      "_view_count": null,
      "_view_module": "@jupyter-widgets/controls",
      "_view_module_version": "1.5.0",
      "_view_name": "HBoxView",
      "box_style": "",
      "children": [
       "IPY_MODEL_8f3acd289ced416792cc64a9164ce03a",
       "IPY_MODEL_a034f0d7f9734798b421f1b6cc977c09",
       "IPY_MODEL_f3ba754f32474320b78f467869090379"
      ],
      "layout": "IPY_MODEL_5d1ee5d3b67444b5bc1b1394a09a1475"
     }
    },
    "e8db363400124e8695e0b28677c3190f": {
     "model_module": "@jupyter-widgets/controls",
     "model_module_version": "1.5.0",
     "model_name": "DescriptionStyleModel",
     "state": {
      "_model_module": "@jupyter-widgets/controls",
      "_model_module_version": "1.5.0",
      "_model_name": "DescriptionStyleModel",
      "_view_count": null,
      "_view_module": "@jupyter-widgets/base",
      "_view_module_version": "1.2.0",
      "_view_name": "StyleView",
      "description_width": ""
     }
    },
    "f3ba754f32474320b78f467869090379": {
     "model_module": "@jupyter-widgets/controls",
     "model_module_version": "1.5.0",
     "model_name": "HTMLModel",
     "state": {
      "_dom_classes": [],
      "_model_module": "@jupyter-widgets/controls",
      "_model_module_version": "1.5.0",
      "_model_name": "HTMLModel",
      "_view_count": null,
      "_view_module": "@jupyter-widgets/controls",
      "_view_module_version": "1.5.0",
      "_view_name": "HTMLView",
      "description": "",
      "description_tooltip": null,
      "layout": "IPY_MODEL_d18bcba901644eb0b5751a1ac403c398",
      "placeholder": "​",
      "style": "IPY_MODEL_e8db363400124e8695e0b28677c3190f",
      "value": " 16/16 [00:28&lt;00:00,  1.31it/s]"
     }
    },
    "f3c98f9bcdd34368972be1e6bf173c5f": {
     "model_module": "@jupyter-widgets/controls",
     "model_module_version": "1.5.0",
     "model_name": "HBoxModel",
     "state": {
      "_dom_classes": [],
      "_model_module": "@jupyter-widgets/controls",
      "_model_module_version": "1.5.0",
      "_model_name": "HBoxModel",
      "_view_count": null,
      "_view_module": "@jupyter-widgets/controls",
      "_view_module_version": "1.5.0",
      "_view_name": "HBoxView",
      "box_style": "",
      "children": [
       "IPY_MODEL_d1f74b3ddde34d768989eceb3ee7681d",
       "IPY_MODEL_f42d8a8760934bbb959d07608a69fa76",
       "IPY_MODEL_77e93711fdde453696c6bbd013990c70"
      ],
      "layout": "IPY_MODEL_2b61fec684ad44a69576aa124224c4d9"
     }
    },
    "f42d8a8760934bbb959d07608a69fa76": {
     "model_module": "@jupyter-widgets/controls",
     "model_module_version": "1.5.0",
     "model_name": "FloatProgressModel",
     "state": {
      "_dom_classes": [],
      "_model_module": "@jupyter-widgets/controls",
      "_model_module_version": "1.5.0",
      "_model_name": "FloatProgressModel",
      "_view_count": null,
      "_view_module": "@jupyter-widgets/controls",
      "_view_module_version": "1.5.0",
      "_view_name": "ProgressView",
      "bar_style": "success",
      "description": "",
      "description_tooltip": null,
      "layout": "IPY_MODEL_1fa42d722f3540e1a1b3317edf0eee83",
      "max": 239,
      "min": 0,
      "orientation": "horizontal",
      "style": "IPY_MODEL_6d83c6563aaf4848898847243397c9a2",
      "value": 239
     }
    },
    "fc23d268168942908bc0b1ab1787a7bd": {
     "model_module": "@jupyter-widgets/controls",
     "model_module_version": "1.5.0",
     "model_name": "ProgressStyleModel",
     "state": {
      "_model_module": "@jupyter-widgets/controls",
      "_model_module_version": "1.5.0",
      "_model_name": "ProgressStyleModel",
      "_view_count": null,
      "_view_module": "@jupyter-widgets/base",
      "_view_module_version": "1.2.0",
      "_view_name": "StyleView",
      "bar_color": null,
      "description_width": ""
     }
    }
   }
  }
 },
 "nbformat": 4,
 "nbformat_minor": 4
}
